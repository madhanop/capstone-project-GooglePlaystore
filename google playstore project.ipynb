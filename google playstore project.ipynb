{
 "cells": [
  {
   "cell_type": "markdown",
   "id": "2b64d3bd",
   "metadata": {},
   "source": [
    "## 1. Google Play Store apps and reviews\n",
    "<p>Mobile apps are everywhere. They are easy to create and can be lucrative. Because of these two factors, more and more apps are being developed. In this notebook, we will do a comprehensive analysis of the Android app market by comparing over ten thousand apps in Google Play across different categories. We'll look for insights in the data to devise strategies to drive growth and retention.</p>\n",
    "<p><img src=\"https://assets.datacamp.com/production/project_619/img/google_play_store.png\" alt=\"Google Play logo\"></p>\n",
    "<p>Let's take a look at the data, which consists of two files:</p>\n",
    "<ul>\n",
    "<li><code>apps.csv</code>: contains all the details of the applications on Google Play. There are 13 features that describe a given app.</li>\n",
    "<li><code>user_reviews.csv</code>: contains 100 reviews for each app, <a href=\"https://www.androidpolice.com/2019/01/21/google-play-stores-redesigned-ratings-and-reviews-section-lets-you-easily-filter-by-star-rating/\">most helpful first</a>. The text in each review has been pre-processed and attributed with three new features: Sentiment (Positive, Negative or Neutral), Sentiment Polarity and Sentiment Subjectivity.</li>\n",
    "</ul>"
   ]
  },
  {
   "cell_type": "markdown",
   "id": "d1154be6",
   "metadata": {},
   "source": [
    "In this Notebook, we are going to analyse the dataset (taken from Kaggle) of all the Apps in the Google Play Store\n",
    "The series of steps followed are :\n",
    "1. Importing Packages\n",
    "2. Reading Data\n",
    "3. Data Preprocessing\n",
    "- 3.1 Handling NULL Values\n",
    "- 3.2 Handling Data Types and Values\n",
    "4. Analyzing Features\n",
    "5. Furthur Analysis.\n",
    " - Unsupervised Methods.\n",
    " - Supervised Methods.\n",
    "6.Conclusions"
   ]
  },
  {
   "cell_type": "markdown",
   "id": "d7f4768d",
   "metadata": {},
   "source": [
    "# 1.Importing the required packages"
   ]
  },
  {
   "cell_type": "code",
   "execution_count": 85,
   "id": "393ffde2",
   "metadata": {},
   "outputs": [],
   "source": [
    "import pandas as pd\n",
    "from scipy import stats\n",
    "import matplotlib.pyplot as plt\n",
    "import seaborn as sns\n",
    "import statsmodels.api as sm\n",
    "from sklearn.model_selection import train_test_split\n",
    "from sklearn.linear_model import LinearRegression\n",
    "from sklearn.ensemble import GradientBoostingRegressor\n",
    "from sklearn.ensemble import GradientBoostingClassifier\n",
    "from sklearn.ensemble import RandomForestClassifier\n",
    "from sklearn.ensemble import RandomForestRegressor\n",
    "from sklearn.linear_model import LogisticRegression\n",
    "from sklearn.tree import DecisionTreeClassifier\n",
    "from sklearn.tree import DecisionTreeRegressor\n",
    "from sklearn.ensemble import AdaBoostRegressor\n",
    "from sklearn.ensemble import AdaBoostClassifier\n",
    "from sklearn import metrics\n",
    "from sklearn.metrics import mean_squared_error\n",
    "from sklearn.preprocessing import OrdinalEncoder\n",
    "from sklearn.preprocessing import scale\n",
    "from sklearn import cluster\n",
    "from sklearn.preprocessing import LabelEncoder\n",
    "from sklearn.cluster import AgglomerativeClustering\n",
    "import numpy as np\n",
    "from scipy.cluster.hierarchy import dendrogram, linkage\n",
    "from sklearn.neighbors import KNeighborsClassifier\n",
    "from flask import Flask, render_template, request"
   ]
  },
  {
   "cell_type": "markdown",
   "id": "10963c28",
   "metadata": {},
   "source": [
    "# 2.Reading Data"
   ]
  },
  {
   "cell_type": "code",
   "execution_count": 4,
   "id": "e0099d37",
   "metadata": {},
   "outputs": [
    {
     "data": {
      "text/html": [
       "<div>\n",
       "<style scoped>\n",
       "    .dataframe tbody tr th:only-of-type {\n",
       "        vertical-align: middle;\n",
       "    }\n",
       "\n",
       "    .dataframe tbody tr th {\n",
       "        vertical-align: top;\n",
       "    }\n",
       "\n",
       "    .dataframe thead th {\n",
       "        text-align: right;\n",
       "    }\n",
       "</style>\n",
       "<table border=\"1\" class=\"dataframe\">\n",
       "  <thead>\n",
       "    <tr style=\"text-align: right;\">\n",
       "      <th></th>\n",
       "      <th>App</th>\n",
       "      <th>Category</th>\n",
       "      <th>Rating</th>\n",
       "      <th>Reviews</th>\n",
       "      <th>Size</th>\n",
       "      <th>Installs</th>\n",
       "      <th>Type</th>\n",
       "      <th>Price</th>\n",
       "      <th>Content Rating</th>\n",
       "      <th>Genres</th>\n",
       "      <th>Last Updated</th>\n",
       "      <th>Current Ver</th>\n",
       "      <th>Android Ver</th>\n",
       "    </tr>\n",
       "  </thead>\n",
       "  <tbody>\n",
       "    <tr>\n",
       "      <th>0</th>\n",
       "      <td>Photo Editor &amp; Candy Camera &amp; Grid &amp; ScrapBook</td>\n",
       "      <td>ART_AND_DESIGN</td>\n",
       "      <td>4.1</td>\n",
       "      <td>159</td>\n",
       "      <td>19M</td>\n",
       "      <td>10,000+</td>\n",
       "      <td>Free</td>\n",
       "      <td>0</td>\n",
       "      <td>Everyone</td>\n",
       "      <td>Art &amp; Design</td>\n",
       "      <td>January 7, 2018</td>\n",
       "      <td>1.0.0</td>\n",
       "      <td>4.0.3 and up</td>\n",
       "    </tr>\n",
       "    <tr>\n",
       "      <th>1</th>\n",
       "      <td>Coloring book moana</td>\n",
       "      <td>ART_AND_DESIGN</td>\n",
       "      <td>3.9</td>\n",
       "      <td>967</td>\n",
       "      <td>14M</td>\n",
       "      <td>500,000+</td>\n",
       "      <td>Free</td>\n",
       "      <td>0</td>\n",
       "      <td>Everyone</td>\n",
       "      <td>Art &amp; Design;Pretend Play</td>\n",
       "      <td>January 15, 2018</td>\n",
       "      <td>2.0.0</td>\n",
       "      <td>4.0.3 and up</td>\n",
       "    </tr>\n",
       "    <tr>\n",
       "      <th>2</th>\n",
       "      <td>U Launcher Lite – FREE Live Cool Themes, Hide ...</td>\n",
       "      <td>ART_AND_DESIGN</td>\n",
       "      <td>4.7</td>\n",
       "      <td>87510</td>\n",
       "      <td>8.7M</td>\n",
       "      <td>5,000,000+</td>\n",
       "      <td>Free</td>\n",
       "      <td>0</td>\n",
       "      <td>Everyone</td>\n",
       "      <td>Art &amp; Design</td>\n",
       "      <td>August 1, 2018</td>\n",
       "      <td>1.2.4</td>\n",
       "      <td>4.0.3 and up</td>\n",
       "    </tr>\n",
       "    <tr>\n",
       "      <th>3</th>\n",
       "      <td>Sketch - Draw &amp; Paint</td>\n",
       "      <td>ART_AND_DESIGN</td>\n",
       "      <td>4.5</td>\n",
       "      <td>215644</td>\n",
       "      <td>25M</td>\n",
       "      <td>50,000,000+</td>\n",
       "      <td>Free</td>\n",
       "      <td>0</td>\n",
       "      <td>Teen</td>\n",
       "      <td>Art &amp; Design</td>\n",
       "      <td>June 8, 2018</td>\n",
       "      <td>Varies with device</td>\n",
       "      <td>4.2 and up</td>\n",
       "    </tr>\n",
       "    <tr>\n",
       "      <th>4</th>\n",
       "      <td>Pixel Draw - Number Art Coloring Book</td>\n",
       "      <td>ART_AND_DESIGN</td>\n",
       "      <td>4.3</td>\n",
       "      <td>967</td>\n",
       "      <td>2.8M</td>\n",
       "      <td>100,000+</td>\n",
       "      <td>Free</td>\n",
       "      <td>0</td>\n",
       "      <td>Everyone</td>\n",
       "      <td>Art &amp; Design;Creativity</td>\n",
       "      <td>June 20, 2018</td>\n",
       "      <td>1.1</td>\n",
       "      <td>4.4 and up</td>\n",
       "    </tr>\n",
       "  </tbody>\n",
       "</table>\n",
       "</div>"
      ],
      "text/plain": [
       "                                                 App        Category  Rating  \\\n",
       "0     Photo Editor & Candy Camera & Grid & ScrapBook  ART_AND_DESIGN     4.1   \n",
       "1                                Coloring book moana  ART_AND_DESIGN     3.9   \n",
       "2  U Launcher Lite – FREE Live Cool Themes, Hide ...  ART_AND_DESIGN     4.7   \n",
       "3                              Sketch - Draw & Paint  ART_AND_DESIGN     4.5   \n",
       "4              Pixel Draw - Number Art Coloring Book  ART_AND_DESIGN     4.3   \n",
       "\n",
       "  Reviews  Size     Installs  Type Price Content Rating  \\\n",
       "0     159   19M      10,000+  Free     0       Everyone   \n",
       "1     967   14M     500,000+  Free     0       Everyone   \n",
       "2   87510  8.7M   5,000,000+  Free     0       Everyone   \n",
       "3  215644   25M  50,000,000+  Free     0           Teen   \n",
       "4     967  2.8M     100,000+  Free     0       Everyone   \n",
       "\n",
       "                      Genres      Last Updated         Current Ver  \\\n",
       "0               Art & Design   January 7, 2018               1.0.0   \n",
       "1  Art & Design;Pretend Play  January 15, 2018               2.0.0   \n",
       "2               Art & Design    August 1, 2018               1.2.4   \n",
       "3               Art & Design      June 8, 2018  Varies with device   \n",
       "4    Art & Design;Creativity     June 20, 2018                 1.1   \n",
       "\n",
       "    Android Ver  \n",
       "0  4.0.3 and up  \n",
       "1  4.0.3 and up  \n",
       "2  4.0.3 and up  \n",
       "3    4.2 and up  \n",
       "4    4.4 and up  "
      ]
     },
     "execution_count": 4,
     "metadata": {},
     "output_type": "execute_result"
    }
   ],
   "source": [
    "Playstore=pd.read_csv(r\"C:\\Users\\Home\\Desktop\\project\\googleplaystore.csv\\googleplaystore.csv\")\n",
    "Playstore.head()"
   ]
  },
  {
   "cell_type": "code",
   "execution_count": 5,
   "id": "a226e959",
   "metadata": {},
   "outputs": [
    {
     "data": {
      "text/plain": [
       "(10841, 13)"
      ]
     },
     "execution_count": 5,
     "metadata": {},
     "output_type": "execute_result"
    }
   ],
   "source": [
    "Playstore.shape"
   ]
  },
  {
   "cell_type": "code",
   "execution_count": 6,
   "id": "1049aa06",
   "metadata": {},
   "outputs": [
    {
     "data": {
      "text/plain": [
       "Index(['App', 'Category', 'Rating', 'Reviews', 'Size', 'Installs', 'Type',\n",
       "       'Price', 'Content Rating', 'Genres', 'Last Updated', 'Current Ver',\n",
       "       'Android Ver'],\n",
       "      dtype='object')"
      ]
     },
     "execution_count": 6,
     "metadata": {},
     "output_type": "execute_result"
    }
   ],
   "source": [
    "Playstore.columns"
   ]
  },
  {
   "cell_type": "markdown",
   "id": "1ffaadfb",
   "metadata": {},
   "source": [
    "# 3.Data Preprocessing"
   ]
  },
  {
   "cell_type": "markdown",
   "id": "96d8a9dd",
   "metadata": {},
   "source": [
    "3.1 Handling NULL Values:"
   ]
  },
  {
   "cell_type": "markdown",
   "id": "2f2776ae",
   "metadata": {},
   "source": [
    "This is a very crucial step in every analysis and model, which on doing, improves the accuracy of insights and predictions."
   ]
  },
  {
   "cell_type": "code",
   "execution_count": 7,
   "id": "85229ade",
   "metadata": {},
   "outputs": [
    {
     "data": {
      "text/plain": [
       "App                  0\n",
       "Category             0\n",
       "Rating            1474\n",
       "Reviews              0\n",
       "Size                 0\n",
       "Installs             0\n",
       "Type                 1\n",
       "Price                0\n",
       "Content Rating       1\n",
       "Genres               0\n",
       "Last Updated         0\n",
       "Current Ver          8\n",
       "Android Ver          3\n",
       "dtype: int64"
      ]
     },
     "execution_count": 7,
     "metadata": {},
     "output_type": "execute_result"
    }
   ],
   "source": [
    "Playstore.isnull().sum()"
   ]
  },
  {
   "cell_type": "markdown",
   "id": "73ed1fb9",
   "metadata": {},
   "source": [
    "There are many NULL values in Rating, and few in Type,Content Rating and Versions."
   ]
  },
  {
   "cell_type": "code",
   "execution_count": 8,
   "id": "1cf485cd",
   "metadata": {},
   "outputs": [],
   "source": [
    "Playstore.dropna(inplace=True) #Dropping Rows with Null values"
   ]
  },
  {
   "cell_type": "code",
   "execution_count": 9,
   "id": "dd91618c",
   "metadata": {},
   "outputs": [
    {
     "data": {
      "text/plain": [
       "(9360, 13)"
      ]
     },
     "execution_count": 9,
     "metadata": {},
     "output_type": "execute_result"
    }
   ],
   "source": [
    "Playstore.shape"
   ]
  },
  {
   "cell_type": "code",
   "execution_count": 10,
   "id": "03649ada",
   "metadata": {},
   "outputs": [],
   "source": [
    "Playstore.drop_duplicates(inplace=True)"
   ]
  },
  {
   "cell_type": "code",
   "execution_count": 11,
   "id": "ab9241c8",
   "metadata": {},
   "outputs": [
    {
     "data": {
      "text/plain": [
       "(8886, 13)"
      ]
     },
     "execution_count": 11,
     "metadata": {},
     "output_type": "execute_result"
    }
   ],
   "source": [
    "Playstore.shape"
   ]
  },
  {
   "cell_type": "markdown",
   "id": "fd3b0179",
   "metadata": {},
   "source": [
    "After removing the rows with Null values and the duplicate entries, We have got 8886 apps to analyze for their ratings and performance."
   ]
  },
  {
   "cell_type": "markdown",
   "id": "d444eab6",
   "metadata": {},
   "source": [
    "3.2 Handling Data Types of each Feature:"
   ]
  },
  {
   "cell_type": "markdown",
   "id": "ed8dc773",
   "metadata": {},
   "source": [
    "The data types of each feature must be changed to a proper format that can be used for analysis."
   ]
  },
  {
   "cell_type": "code",
   "execution_count": 12,
   "id": "2ac33339",
   "metadata": {},
   "outputs": [
    {
     "data": {
      "text/plain": [
       "App                object\n",
       "Category           object\n",
       "Rating            float64\n",
       "Reviews            object\n",
       "Size               object\n",
       "Installs           object\n",
       "Type               object\n",
       "Price              object\n",
       "Content Rating     object\n",
       "Genres             object\n",
       "Last Updated       object\n",
       "Current Ver        object\n",
       "Android Ver        object\n",
       "dtype: object"
      ]
     },
     "execution_count": 12,
     "metadata": {},
     "output_type": "execute_result"
    }
   ],
   "source": [
    "Playstore.dtypes # Displaying Data types of each feature."
   ]
  },
  {
   "cell_type": "markdown",
   "id": "eaf78114",
   "metadata": {},
   "source": [
    "The feature Reviews must be of numerical type. So we should change it."
   ]
  },
  {
   "cell_type": "code",
   "execution_count": 13,
   "id": "b4956652",
   "metadata": {},
   "outputs": [],
   "source": [
    "Playstore.Reviews=Playstore.Reviews.astype('int64')#Changing to int type."
   ]
  },
  {
   "cell_type": "markdown",
   "id": "722a2fac",
   "metadata": {},
   "source": [
    "Other Features like Size, Installs, Price and Android Vers also must be of numeric type.\n",
    "The values they are holding must be changed to a proper format so that we can use them for analysis and plots.\n",
    "Example : '10000+' to 10000"
   ]
  },
  {
   "cell_type": "markdown",
   "id": "d94142bf",
   "metadata": {},
   "source": [
    "* Changing the Feature : Installs"
   ]
  },
  {
   "cell_type": "code",
   "execution_count": 14,
   "id": "1caf56fc",
   "metadata": {},
   "outputs": [
    {
     "data": {
      "text/plain": [
       "0       10000.0\n",
       "1      500000.0\n",
       "2     5000000.0\n",
       "3    50000000.0\n",
       "4      100000.0\n",
       "Name: Installs, dtype: float64"
      ]
     },
     "execution_count": 14,
     "metadata": {},
     "output_type": "execute_result"
    }
   ],
   "source": [
    "newInstalls = []\n",
    "\n",
    "for row in Playstore.Installs:\n",
    "    \n",
    "    row = row[:-1]\n",
    "    newRow = row.replace(\",\", \"\")\n",
    "    newInstalls.append(float(newRow))\n",
    "    \n",
    "\n",
    "Playstore.Installs = newInstalls\n",
    "\n",
    "Playstore.Installs.head()"
   ]
  },
  {
   "cell_type": "markdown",
   "id": "cb795904",
   "metadata": {},
   "source": [
    "* Changing the feature : Size"
   ]
  },
  {
   "cell_type": "code",
   "execution_count": 15,
   "id": "571fcdc7",
   "metadata": {},
   "outputs": [
    {
     "data": {
      "text/plain": [
       "0    19.0\n",
       "1    14.0\n",
       "2     8.7\n",
       "3    25.0\n",
       "4     2.8\n",
       "Name: Size, dtype: float64"
      ]
     },
     "execution_count": 15,
     "metadata": {},
     "output_type": "execute_result"
    }
   ],
   "source": [
    "newSize = []\n",
    "\n",
    "for row in Playstore.Size:\n",
    "    newrow = row[:-1]\n",
    "    try:\n",
    "        newSize.append(float(newrow))\n",
    "    except:\n",
    "        newSize.append(0) #When it says - Size Varies.\n",
    "    \n",
    "Playstore.Size = newSize\n",
    "\n",
    "Playstore.Size.head()"
   ]
  },
  {
   "cell_type": "markdown",
   "id": "d101e428",
   "metadata": {},
   "source": [
    "* Changing the feature, Price"
   ]
  },
  {
   "cell_type": "code",
   "execution_count": 16,
   "id": "dab3915d",
   "metadata": {},
   "outputs": [
    {
     "data": {
      "text/plain": [
       "0    0.0\n",
       "1    0.0\n",
       "2    0.0\n",
       "3    0.0\n",
       "4    0.0\n",
       "Name: Price, dtype: float64"
      ]
     },
     "execution_count": 16,
     "metadata": {},
     "output_type": "execute_result"
    }
   ],
   "source": [
    "newPrice = []\n",
    "\n",
    "for row in Playstore.Price:\n",
    "    if row!= \"0\":\n",
    "        newrow = float(row[1:])\n",
    "    else:\n",
    "        newrow = 0 \n",
    "        \n",
    "    newPrice.append(newrow)\n",
    "        \n",
    "Playstore.Price = newPrice\n",
    "\n",
    "Playstore.Price.head()"
   ]
  },
  {
   "cell_type": "markdown",
   "id": "e8bd5dda",
   "metadata": {},
   "source": [
    "* Changing the feature, Android Ver"
   ]
  },
  {
   "cell_type": "code",
   "execution_count": 17,
   "id": "e0587a58",
   "metadata": {},
   "outputs": [
    {
     "data": {
      "text/plain": [
       "4.0    5602\n",
       "0.0    1178\n",
       "2.0    1160\n",
       "5.0     500\n",
       "3.0     246\n",
       "1.0     104\n",
       "6.0      46\n",
       "7.0      45\n",
       "8.0       5\n",
       "Name: Android Ver, dtype: int64"
      ]
     },
     "execution_count": 17,
     "metadata": {},
     "output_type": "execute_result"
    }
   ],
   "source": [
    "newVer = []\n",
    "\n",
    "for row in Playstore['Android Ver']:\n",
    "    try:\n",
    "        newrow = float(row[:2])\n",
    "    except:\n",
    "        newrow = 0  # When the value is - Varies with device\n",
    "    \n",
    "    newVer.append(newrow)\n",
    "    \n",
    "Playstore['Android Ver'] =  newVer\n",
    "\n",
    "Playstore['Android Ver'].value_counts()"
   ]
  },
  {
   "cell_type": "markdown",
   "id": "f315d4cf",
   "metadata": {},
   "source": [
    "# 4. Analyzing Features :"
   ]
  },
  {
   "cell_type": "markdown",
   "id": "d14e6ad0",
   "metadata": {},
   "source": [
    "4.1 Categories"
   ]
  },
  {
   "cell_type": "markdown",
   "id": "5b189bf5",
   "metadata": {},
   "source": [
    "Displaying all the categories and their counts."
   ]
  },
  {
   "cell_type": "code",
   "execution_count": 18,
   "id": "be805a05",
   "metadata": {},
   "outputs": [
    {
     "data": {
      "text/plain": [
       "FAMILY                 1717\n",
       "GAME                   1074\n",
       "TOOLS                   733\n",
       "PRODUCTIVITY            334\n",
       "FINANCE                 317\n",
       "PERSONALIZATION         308\n",
       "COMMUNICATION           307\n",
       "LIFESTYLE               305\n",
       "PHOTOGRAPHY             304\n",
       "MEDICAL                 302\n",
       "SPORTS                  286\n",
       "BUSINESS                270\n",
       "HEALTH_AND_FITNESS      262\n",
       "SOCIAL                  244\n",
       "NEWS_AND_MAGAZINES      214\n",
       "TRAVEL_AND_LOCAL        205\n",
       "SHOPPING                202\n",
       "BOOKS_AND_REFERENCE     177\n",
       "VIDEO_PLAYERS           160\n",
       "DATING                  159\n",
       "EDUCATION               129\n",
       "MAPS_AND_NAVIGATION     124\n",
       "ENTERTAINMENT           111\n",
       "FOOD_AND_DRINK          106\n",
       "WEATHER                  75\n",
       "AUTO_AND_VEHICLES        73\n",
       "HOUSE_AND_HOME           68\n",
       "LIBRARIES_AND_DEMO       64\n",
       "ART_AND_DESIGN           61\n",
       "COMICS                   58\n",
       "PARENTING                50\n",
       "EVENTS                   45\n",
       "BEAUTY                   42\n",
       "Name: Category, dtype: int64"
      ]
     },
     "execution_count": 18,
     "metadata": {},
     "output_type": "execute_result"
    }
   ],
   "source": [
    "Playstore.Category.value_counts() "
   ]
  },
  {
   "cell_type": "code",
   "execution_count": 19,
   "id": "8a3dd4be",
   "metadata": {},
   "outputs": [
    {
     "data": {
      "text/plain": [
       "<AxesSubplot:>"
      ]
     },
     "execution_count": 19,
     "metadata": {},
     "output_type": "execute_result"
    },
    {
     "data": {
      "image/png": "[encoded data removed]",
      "text/plain": [
       "<Figure size 864x576 with 1 Axes>"
      ]
     },
     "metadata": {
      "needs_background": "light"
     },
     "output_type": "display_data"
    }
   ],
   "source": [
    "Playstore.Category.value_counts().plot(kind='barh',figsize= (12,8))"
   ]
  },
  {
   "cell_type": "markdown",
   "id": "854c106a",
   "metadata": {},
   "source": [
    "Insight : Maximum Number of Apps belong to the Family and Game Category."
   ]
  },
  {
   "cell_type": "markdown",
   "id": "34e04840",
   "metadata": {},
   "source": [
    "4.2 Rating"
   ]
  },
  {
   "cell_type": "code",
   "execution_count": 20,
   "id": "b40722a6",
   "metadata": {},
   "outputs": [
    {
     "data": {
      "text/plain": [
       "count    8886.000000\n",
       "mean        4.187959\n",
       "std         0.522428\n",
       "min         1.000000\n",
       "25%         4.000000\n",
       "50%         4.300000\n",
       "75%         4.500000\n",
       "max         5.000000\n",
       "Name: Rating, dtype: float64"
      ]
     },
     "execution_count": 20,
     "metadata": {},
     "output_type": "execute_result"
    }
   ],
   "source": [
    "Playstore.Rating.describe()"
   ]
  },
  {
   "cell_type": "markdown",
   "id": "a0322339",
   "metadata": {},
   "source": [
    "Distribution Plot of 'Rating'"
   ]
  },
  {
   "cell_type": "code",
   "execution_count": 21,
   "id": "51f76f7f",
   "metadata": {},
   "outputs": [
    {
     "name": "stderr",
     "output_type": "stream",
     "text": [
      "C:\\Users\\Home\\anaconda3\\lib\\site-packages\\seaborn\\distributions.py:2619: FutureWarning: `distplot` is a deprecated function and will be removed in a future version. Please adapt your code to use either `displot` (a figure-level function with similar flexibility) or `histplot` (an axes-level function for histograms).\n",
      "  warnings.warn(msg, FutureWarning)\n"
     ]
    },
    {
     "data": {
      "text/plain": [
       "<AxesSubplot:xlabel='Rating', ylabel='Density'>"
      ]
     },
     "execution_count": 21,
     "metadata": {},
     "output_type": "execute_result"
    },
    {
     "data": {
      "image/png": "[encoded data removed]",
      "text/plain": [
       "<Figure size 432x288 with 1 Axes>"
      ]
     },
     "metadata": {
      "needs_background": "light"
     },
     "output_type": "display_data"
    }
   ],
   "source": [
    "sns.distplot(Playstore.Rating)"
   ]
  },
  {
   "cell_type": "markdown",
   "id": "c316729c",
   "metadata": {},
   "source": [
    "Insight : Most of the apps, clearly hold a rating above 4.0 ! And surprisingly a lot seem to have 5.0 rating."
   ]
  },
  {
   "cell_type": "code",
   "execution_count": 22,
   "id": "cd78b020",
   "metadata": {},
   "outputs": [
    {
     "name": "stdout",
     "output_type": "stream",
     "text": [
      "No. of Apps with full ratings:  271\n"
     ]
    }
   ],
   "source": [
    "print(\"No. of Apps with full ratings: \",Playstore.Rating[Playstore['Rating'] == 5 ].count())"
   ]
  },
  {
   "cell_type": "markdown",
   "id": "b473e07c",
   "metadata": {},
   "source": [
    "There are 271 Apps in the store which hold 5.0 Ratings. Do all of these actually deserve it? Or are these spammed ratings? Lets analyze furthur."
   ]
  },
  {
   "cell_type": "markdown",
   "id": "1ff6f21b",
   "metadata": {},
   "source": [
    "4.3 Consider the Reviews:"
   ]
  },
  {
   "cell_type": "markdown",
   "id": "62eb624e",
   "metadata": {},
   "source": [
    "Distribution Plot of the feature 'Reviews'"
   ]
  },
  {
   "cell_type": "code",
   "execution_count": 23,
   "id": "51c99f7e",
   "metadata": {},
   "outputs": [
    {
     "name": "stderr",
     "output_type": "stream",
     "text": [
      "C:\\Users\\Home\\anaconda3\\lib\\site-packages\\seaborn\\distributions.py:2619: FutureWarning: `distplot` is a deprecated function and will be removed in a future version. Please adapt your code to use either `displot` (a figure-level function with similar flexibility) or `histplot` (an axes-level function for histograms).\n",
      "  warnings.warn(msg, FutureWarning)\n"
     ]
    },
    {
     "data": {
      "text/plain": [
       "<AxesSubplot:xlabel='Reviews', ylabel='Density'>"
      ]
     },
     "execution_count": 23,
     "metadata": {},
     "output_type": "execute_result"
    },
    {
     "data": {
      "image/png": "[encoded data removed]",
      "text/plain": [
       "<Figure size 720x360 with 1 Axes>"
      ]
     },
     "metadata": {
      "needs_background": "light"
     },
     "output_type": "display_data"
    }
   ],
   "source": [
    "plt.figure(figsize=(10,5))\n",
    "sns.distplot(Playstore.Reviews)"
   ]
  },
  {
   "cell_type": "markdown",
   "id": "fb6ab37b",
   "metadata": {},
   "source": [
    "Let's look into those apps which have a good amount of Reviews."
   ]
  },
  {
   "cell_type": "code",
   "execution_count": 24,
   "id": "fad56549",
   "metadata": {},
   "outputs": [
    {
     "data": {
      "text/html": [
       "<div>\n",
       "<style scoped>\n",
       "    .dataframe tbody tr th:only-of-type {\n",
       "        vertical-align: middle;\n",
       "    }\n",
       "\n",
       "    .dataframe tbody tr th {\n",
       "        vertical-align: top;\n",
       "    }\n",
       "\n",
       "    .dataframe thead th {\n",
       "        text-align: right;\n",
       "    }\n",
       "</style>\n",
       "<table border=\"1\" class=\"dataframe\">\n",
       "  <thead>\n",
       "    <tr style=\"text-align: right;\">\n",
       "      <th></th>\n",
       "      <th>App</th>\n",
       "      <th>Category</th>\n",
       "      <th>Rating</th>\n",
       "      <th>Reviews</th>\n",
       "      <th>Size</th>\n",
       "      <th>Installs</th>\n",
       "      <th>Type</th>\n",
       "      <th>Price</th>\n",
       "      <th>Content Rating</th>\n",
       "      <th>Genres</th>\n",
       "      <th>Last Updated</th>\n",
       "      <th>Current Ver</th>\n",
       "      <th>Android Ver</th>\n",
       "    </tr>\n",
       "  </thead>\n",
       "  <tbody>\n",
       "    <tr>\n",
       "      <th>335</th>\n",
       "      <td>Messenger – Text and Video Chat for Free</td>\n",
       "      <td>COMMUNICATION</td>\n",
       "      <td>4.0</td>\n",
       "      <td>56642847</td>\n",
       "      <td>0.0</td>\n",
       "      <td>1.000000e+09</td>\n",
       "      <td>Free</td>\n",
       "      <td>0.0</td>\n",
       "      <td>Everyone</td>\n",
       "      <td>Communication</td>\n",
       "      <td>August 1, 2018</td>\n",
       "      <td>Varies with device</td>\n",
       "      <td>0.0</td>\n",
       "    </tr>\n",
       "    <tr>\n",
       "      <th>336</th>\n",
       "      <td>WhatsApp Messenger</td>\n",
       "      <td>COMMUNICATION</td>\n",
       "      <td>4.4</td>\n",
       "      <td>69119316</td>\n",
       "      <td>0.0</td>\n",
       "      <td>1.000000e+09</td>\n",
       "      <td>Free</td>\n",
       "      <td>0.0</td>\n",
       "      <td>Everyone</td>\n",
       "      <td>Communication</td>\n",
       "      <td>August 3, 2018</td>\n",
       "      <td>Varies with device</td>\n",
       "      <td>0.0</td>\n",
       "    </tr>\n",
       "    <tr>\n",
       "      <th>382</th>\n",
       "      <td>Messenger – Text and Video Chat for Free</td>\n",
       "      <td>COMMUNICATION</td>\n",
       "      <td>4.0</td>\n",
       "      <td>56646578</td>\n",
       "      <td>0.0</td>\n",
       "      <td>1.000000e+09</td>\n",
       "      <td>Free</td>\n",
       "      <td>0.0</td>\n",
       "      <td>Everyone</td>\n",
       "      <td>Communication</td>\n",
       "      <td>August 1, 2018</td>\n",
       "      <td>Varies with device</td>\n",
       "      <td>0.0</td>\n",
       "    </tr>\n",
       "    <tr>\n",
       "      <th>1670</th>\n",
       "      <td>Clash of Clans</td>\n",
       "      <td>GAME</td>\n",
       "      <td>4.6</td>\n",
       "      <td>44891723</td>\n",
       "      <td>98.0</td>\n",
       "      <td>1.000000e+08</td>\n",
       "      <td>Free</td>\n",
       "      <td>0.0</td>\n",
       "      <td>Everyone 10+</td>\n",
       "      <td>Strategy</td>\n",
       "      <td>July 15, 2018</td>\n",
       "      <td>10.322.16</td>\n",
       "      <td>4.0</td>\n",
       "    </tr>\n",
       "    <tr>\n",
       "      <th>1879</th>\n",
       "      <td>Clash of Clans</td>\n",
       "      <td>GAME</td>\n",
       "      <td>4.6</td>\n",
       "      <td>44893888</td>\n",
       "      <td>98.0</td>\n",
       "      <td>1.000000e+08</td>\n",
       "      <td>Free</td>\n",
       "      <td>0.0</td>\n",
       "      <td>Everyone 10+</td>\n",
       "      <td>Strategy</td>\n",
       "      <td>July 15, 2018</td>\n",
       "      <td>10.322.16</td>\n",
       "      <td>4.0</td>\n",
       "    </tr>\n",
       "    <tr>\n",
       "      <th>2544</th>\n",
       "      <td>Facebook</td>\n",
       "      <td>SOCIAL</td>\n",
       "      <td>4.1</td>\n",
       "      <td>78158306</td>\n",
       "      <td>0.0</td>\n",
       "      <td>1.000000e+09</td>\n",
       "      <td>Free</td>\n",
       "      <td>0.0</td>\n",
       "      <td>Teen</td>\n",
       "      <td>Social</td>\n",
       "      <td>August 3, 2018</td>\n",
       "      <td>Varies with device</td>\n",
       "      <td>0.0</td>\n",
       "    </tr>\n",
       "    <tr>\n",
       "      <th>2545</th>\n",
       "      <td>Instagram</td>\n",
       "      <td>SOCIAL</td>\n",
       "      <td>4.5</td>\n",
       "      <td>66577313</td>\n",
       "      <td>0.0</td>\n",
       "      <td>1.000000e+09</td>\n",
       "      <td>Free</td>\n",
       "      <td>0.0</td>\n",
       "      <td>Teen</td>\n",
       "      <td>Social</td>\n",
       "      <td>July 31, 2018</td>\n",
       "      <td>Varies with device</td>\n",
       "      <td>0.0</td>\n",
       "    </tr>\n",
       "    <tr>\n",
       "      <th>2604</th>\n",
       "      <td>Instagram</td>\n",
       "      <td>SOCIAL</td>\n",
       "      <td>4.5</td>\n",
       "      <td>66577446</td>\n",
       "      <td>0.0</td>\n",
       "      <td>1.000000e+09</td>\n",
       "      <td>Free</td>\n",
       "      <td>0.0</td>\n",
       "      <td>Teen</td>\n",
       "      <td>Social</td>\n",
       "      <td>July 31, 2018</td>\n",
       "      <td>Varies with device</td>\n",
       "      <td>0.0</td>\n",
       "    </tr>\n",
       "    <tr>\n",
       "      <th>3904</th>\n",
       "      <td>WhatsApp Messenger</td>\n",
       "      <td>COMMUNICATION</td>\n",
       "      <td>4.4</td>\n",
       "      <td>69109672</td>\n",
       "      <td>0.0</td>\n",
       "      <td>1.000000e+09</td>\n",
       "      <td>Free</td>\n",
       "      <td>0.0</td>\n",
       "      <td>Everyone</td>\n",
       "      <td>Communication</td>\n",
       "      <td>August 3, 2018</td>\n",
       "      <td>Varies with device</td>\n",
       "      <td>0.0</td>\n",
       "    </tr>\n",
       "    <tr>\n",
       "      <th>3909</th>\n",
       "      <td>Instagram</td>\n",
       "      <td>SOCIAL</td>\n",
       "      <td>4.5</td>\n",
       "      <td>66509917</td>\n",
       "      <td>0.0</td>\n",
       "      <td>1.000000e+09</td>\n",
       "      <td>Free</td>\n",
       "      <td>0.0</td>\n",
       "      <td>Teen</td>\n",
       "      <td>Social</td>\n",
       "      <td>July 31, 2018</td>\n",
       "      <td>Varies with device</td>\n",
       "      <td>0.0</td>\n",
       "    </tr>\n",
       "    <tr>\n",
       "      <th>3943</th>\n",
       "      <td>Facebook</td>\n",
       "      <td>SOCIAL</td>\n",
       "      <td>4.1</td>\n",
       "      <td>78128208</td>\n",
       "      <td>0.0</td>\n",
       "      <td>1.000000e+09</td>\n",
       "      <td>Free</td>\n",
       "      <td>0.0</td>\n",
       "      <td>Teen</td>\n",
       "      <td>Social</td>\n",
       "      <td>August 3, 2018</td>\n",
       "      <td>Varies with device</td>\n",
       "      <td>0.0</td>\n",
       "    </tr>\n",
       "    <tr>\n",
       "      <th>3986</th>\n",
       "      <td>Clash of Clans</td>\n",
       "      <td>FAMILY</td>\n",
       "      <td>4.6</td>\n",
       "      <td>44881447</td>\n",
       "      <td>98.0</td>\n",
       "      <td>1.000000e+08</td>\n",
       "      <td>Free</td>\n",
       "      <td>0.0</td>\n",
       "      <td>Everyone 10+</td>\n",
       "      <td>Strategy</td>\n",
       "      <td>July 15, 2018</td>\n",
       "      <td>10.322.16</td>\n",
       "      <td>4.0</td>\n",
       "    </tr>\n",
       "    <tr>\n",
       "      <th>4005</th>\n",
       "      <td>Clean Master- Space Cleaner &amp; Antivirus</td>\n",
       "      <td>TOOLS</td>\n",
       "      <td>4.7</td>\n",
       "      <td>42916526</td>\n",
       "      <td>0.0</td>\n",
       "      <td>5.000000e+08</td>\n",
       "      <td>Free</td>\n",
       "      <td>0.0</td>\n",
       "      <td>Everyone</td>\n",
       "      <td>Tools</td>\n",
       "      <td>August 3, 2018</td>\n",
       "      <td>Varies with device</td>\n",
       "      <td>0.0</td>\n",
       "    </tr>\n",
       "  </tbody>\n",
       "</table>\n",
       "</div>"
      ],
      "text/plain": [
       "                                           App       Category  Rating  \\\n",
       "335   Messenger – Text and Video Chat for Free  COMMUNICATION     4.0   \n",
       "336                         WhatsApp Messenger  COMMUNICATION     4.4   \n",
       "382   Messenger – Text and Video Chat for Free  COMMUNICATION     4.0   \n",
       "1670                            Clash of Clans           GAME     4.6   \n",
       "1879                            Clash of Clans           GAME     4.6   \n",
       "2544                                  Facebook         SOCIAL     4.1   \n",
       "2545                                 Instagram         SOCIAL     4.5   \n",
       "2604                                 Instagram         SOCIAL     4.5   \n",
       "3904                        WhatsApp Messenger  COMMUNICATION     4.4   \n",
       "3909                                 Instagram         SOCIAL     4.5   \n",
       "3943                                  Facebook         SOCIAL     4.1   \n",
       "3986                            Clash of Clans         FAMILY     4.6   \n",
       "4005   Clean Master- Space Cleaner & Antivirus          TOOLS     4.7   \n",
       "\n",
       "       Reviews  Size      Installs  Type  Price Content Rating         Genres  \\\n",
       "335   56642847   0.0  1.000000e+09  Free    0.0       Everyone  Communication   \n",
       "336   69119316   0.0  1.000000e+09  Free    0.0       Everyone  Communication   \n",
       "382   56646578   0.0  1.000000e+09  Free    0.0       Everyone  Communication   \n",
       "1670  44891723  98.0  1.000000e+08  Free    0.0   Everyone 10+       Strategy   \n",
       "1879  44893888  98.0  1.000000e+08  Free    0.0   Everyone 10+       Strategy   \n",
       "2544  78158306   0.0  1.000000e+09  Free    0.0           Teen         Social   \n",
       "2545  66577313   0.0  1.000000e+09  Free    0.0           Teen         Social   \n",
       "2604  66577446   0.0  1.000000e+09  Free    0.0           Teen         Social   \n",
       "3904  69109672   0.0  1.000000e+09  Free    0.0       Everyone  Communication   \n",
       "3909  66509917   0.0  1.000000e+09  Free    0.0           Teen         Social   \n",
       "3943  78128208   0.0  1.000000e+09  Free    0.0           Teen         Social   \n",
       "3986  44881447  98.0  1.000000e+08  Free    0.0   Everyone 10+       Strategy   \n",
       "4005  42916526   0.0  5.000000e+08  Free    0.0       Everyone          Tools   \n",
       "\n",
       "        Last Updated         Current Ver  Android Ver  \n",
       "335   August 1, 2018  Varies with device          0.0  \n",
       "336   August 3, 2018  Varies with device          0.0  \n",
       "382   August 1, 2018  Varies with device          0.0  \n",
       "1670   July 15, 2018           10.322.16          4.0  \n",
       "1879   July 15, 2018           10.322.16          4.0  \n",
       "2544  August 3, 2018  Varies with device          0.0  \n",
       "2545   July 31, 2018  Varies with device          0.0  \n",
       "2604   July 31, 2018  Varies with device          0.0  \n",
       "3904  August 3, 2018  Varies with device          0.0  \n",
       "3909   July 31, 2018  Varies with device          0.0  \n",
       "3943  August 3, 2018  Varies with device          0.0  \n",
       "3986   July 15, 2018           10.322.16          4.0  \n",
       "4005  August 3, 2018  Varies with device          0.0  "
      ]
     },
     "execution_count": 24,
     "metadata": {},
     "output_type": "execute_result"
    }
   ],
   "source": [
    "Playstore[Playstore.Reviews>40000000]"
   ]
  },
  {
   "cell_type": "markdown",
   "id": "797055ae",
   "metadata": {},
   "source": [
    "Insight : The most famous Apps like WhatsApp, Facebook and Clash of Clans are the most reviewed Apps as shown above."
   ]
  },
  {
   "cell_type": "markdown",
   "id": "5ae507f8",
   "metadata": {},
   "source": [
    "Note : And I still have to figure out, how to remove the duplicate entries. My Apologies.\n",
    "\n"
   ]
  },
  {
   "cell_type": "markdown",
   "id": "cee2a475",
   "metadata": {},
   "source": [
    "4.4 Type:"
   ]
  },
  {
   "cell_type": "code",
   "execution_count": 25,
   "id": "1934d94e",
   "metadata": {},
   "outputs": [
    {
     "data": {
      "text/plain": [
       "([<matplotlib.patches.Wedge at 0x237eca1c430>,\n",
       "  <matplotlib.patches.Wedge at 0x237eca1cb50>],\n",
       " [Text(-1.0744351676595925, 0.2357733456018803, 'Free'),\n",
       "  Text(1.0744351566222443, -0.23577339589982083, 'Paid')],\n",
       " [Text(-0.5860555459961413, 0.12860364305557104, '93.1%'),\n",
       "  Text(0.5860555399757695, -0.12860367049081134, '6.9%')])"
      ]
     },
     "execution_count": 25,
     "metadata": {},
     "output_type": "execute_result"
    },
    {
     "data": {
      "image/png": "[encoded data removed]",
      "text/plain": [
       "<Figure size 432x288 with 1 Axes>"
      ]
     },
     "metadata": {},
     "output_type": "display_data"
    }
   ],
   "source": [
    "plt.pie(Playstore.Type.value_counts(), labels=['Free', 'Paid'], autopct='%1.1f%%')"
   ]
  },
  {
   "cell_type": "markdown",
   "id": "51eda217",
   "metadata": {},
   "source": [
    "Insight: 93% of the Apps are Free in the Play Store."
   ]
  },
  {
   "cell_type": "markdown",
   "id": "f1809f91",
   "metadata": {},
   "source": [
    "4.5 Price"
   ]
  },
  {
   "cell_type": "code",
   "execution_count": 26,
   "id": "68f50019",
   "metadata": {},
   "outputs": [
    {
     "data": {
      "text/html": [
       "<div>\n",
       "<style scoped>\n",
       "    .dataframe tbody tr th:only-of-type {\n",
       "        vertical-align: middle;\n",
       "    }\n",
       "\n",
       "    .dataframe tbody tr th {\n",
       "        vertical-align: top;\n",
       "    }\n",
       "\n",
       "    .dataframe thead th {\n",
       "        text-align: right;\n",
       "    }\n",
       "</style>\n",
       "<table border=\"1\" class=\"dataframe\">\n",
       "  <thead>\n",
       "    <tr style=\"text-align: right;\">\n",
       "      <th></th>\n",
       "      <th>App</th>\n",
       "      <th>Category</th>\n",
       "      <th>Rating</th>\n",
       "      <th>Reviews</th>\n",
       "      <th>Size</th>\n",
       "      <th>Installs</th>\n",
       "      <th>Type</th>\n",
       "      <th>Price</th>\n",
       "      <th>Content Rating</th>\n",
       "      <th>Genres</th>\n",
       "      <th>Last Updated</th>\n",
       "      <th>Current Ver</th>\n",
       "      <th>Android Ver</th>\n",
       "    </tr>\n",
       "  </thead>\n",
       "  <tbody>\n",
       "    <tr>\n",
       "      <th>4367</th>\n",
       "      <td>I'm Rich - Trump Edition</td>\n",
       "      <td>LIFESTYLE</td>\n",
       "      <td>3.6</td>\n",
       "      <td>275</td>\n",
       "      <td>7.3</td>\n",
       "      <td>10000.0</td>\n",
       "      <td>Paid</td>\n",
       "      <td>400.0</td>\n",
       "      <td>Everyone</td>\n",
       "      <td>Lifestyle</td>\n",
       "      <td>May 3, 2018</td>\n",
       "      <td>1.0.1</td>\n",
       "      <td>4.0</td>\n",
       "    </tr>\n",
       "  </tbody>\n",
       "</table>\n",
       "</div>"
      ],
      "text/plain": [
       "                           App   Category  Rating  Reviews  Size  Installs  \\\n",
       "4367  I'm Rich - Trump Edition  LIFESTYLE     3.6      275   7.3   10000.0   \n",
       "\n",
       "      Type  Price Content Rating     Genres Last Updated Current Ver  \\\n",
       "4367  Paid  400.0       Everyone  Lifestyle  May 3, 2018       1.0.1   \n",
       "\n",
       "      Android Ver  \n",
       "4367          4.0  "
      ]
     },
     "execution_count": 26,
     "metadata": {},
     "output_type": "execute_result"
    }
   ],
   "source": [
    "Playstore[Playstore.Price == Playstore.Price.max()]"
   ]
  },
  {
   "cell_type": "markdown",
   "id": "ccb5c08e",
   "metadata": {},
   "source": [
    "Insight : The most costly App in the Store is: I'm Rich - Trump Edition costing 400 Dollars!"
   ]
  },
  {
   "cell_type": "markdown",
   "id": "bc628713",
   "metadata": {},
   "source": [
    "4.6 Android Version"
   ]
  },
  {
   "cell_type": "code",
   "execution_count": 27,
   "id": "2c882335",
   "metadata": {},
   "outputs": [
    {
     "data": {
      "text/plain": [
       "4.0    5602\n",
       "0.0    1178\n",
       "2.0    1160\n",
       "5.0     500\n",
       "3.0     246\n",
       "1.0     104\n",
       "6.0      46\n",
       "7.0      45\n",
       "8.0       5\n",
       "Name: Android Ver, dtype: int64"
      ]
     },
     "execution_count": 27,
     "metadata": {},
     "output_type": "execute_result"
    }
   ],
   "source": [
    "Playstore['Android Ver'].value_counts()"
   ]
  },
  {
   "cell_type": "markdown",
   "id": "24104229",
   "metadata": {},
   "source": [
    "Count Plot of the various Versions"
   ]
  },
  {
   "cell_type": "code",
   "execution_count": 28,
   "id": "4ed6e4e8",
   "metadata": {},
   "outputs": [
    {
     "name": "stderr",
     "output_type": "stream",
     "text": [
      "C:\\Users\\Home\\anaconda3\\lib\\site-packages\\seaborn\\_decorators.py:36: FutureWarning: Pass the following variable as a keyword arg: x. From version 0.12, the only valid positional argument will be `data`, and passing other arguments without an explicit keyword will result in an error or misinterpretation.\n",
      "  warnings.warn(\n"
     ]
    },
    {
     "data": {
      "text/plain": [
       "<AxesSubplot:xlabel='Android Ver', ylabel='count'>"
      ]
     },
     "execution_count": 28,
     "metadata": {},
     "output_type": "execute_result"
    },
    {
     "data": {
      "image/png": "[encoded data removed]",
      "text/plain": [
       "<Figure size 432x288 with 1 Axes>"
      ]
     },
     "metadata": {
      "needs_background": "light"
     },
     "output_type": "display_data"
    }
   ],
   "source": [
    "sns.countplot(Playstore['Android Ver'])"
   ]
  },
  {
   "cell_type": "markdown",
   "id": "d0a6e046",
   "metadata": {},
   "source": [
    "Insight : Most of the apps support Android 4.0 and above."
   ]
  },
  {
   "cell_type": "markdown",
   "id": "968987fe",
   "metadata": {},
   "source": [
    "# 5. Furthur Analysis"
   ]
  },
  {
   "cell_type": "markdown",
   "id": "789478d8",
   "metadata": {},
   "source": [
    "Looking at the Apps with 5.0 ratings:"
   ]
  },
  {
   "cell_type": "code",
   "execution_count": 29,
   "id": "a93a042e",
   "metadata": {},
   "outputs": [
    {
     "data": {
      "text/html": [
       "<div>\n",
       "<style scoped>\n",
       "    .dataframe tbody tr th:only-of-type {\n",
       "        vertical-align: middle;\n",
       "    }\n",
       "\n",
       "    .dataframe tbody tr th {\n",
       "        vertical-align: top;\n",
       "    }\n",
       "\n",
       "    .dataframe thead th {\n",
       "        text-align: right;\n",
       "    }\n",
       "</style>\n",
       "<table border=\"1\" class=\"dataframe\">\n",
       "  <thead>\n",
       "    <tr style=\"text-align: right;\">\n",
       "      <th></th>\n",
       "      <th>App</th>\n",
       "      <th>Category</th>\n",
       "      <th>Rating</th>\n",
       "      <th>Reviews</th>\n",
       "      <th>Size</th>\n",
       "      <th>Installs</th>\n",
       "      <th>Type</th>\n",
       "      <th>Price</th>\n",
       "      <th>Content Rating</th>\n",
       "      <th>Genres</th>\n",
       "      <th>Last Updated</th>\n",
       "      <th>Current Ver</th>\n",
       "      <th>Android Ver</th>\n",
       "    </tr>\n",
       "  </thead>\n",
       "  <tbody>\n",
       "    <tr>\n",
       "      <th>329</th>\n",
       "      <td>Hojiboy Tojiboyev Life Hacks</td>\n",
       "      <td>COMICS</td>\n",
       "      <td>5.0</td>\n",
       "      <td>15</td>\n",
       "      <td>37.0</td>\n",
       "      <td>1000.0</td>\n",
       "      <td>Free</td>\n",
       "      <td>0.0</td>\n",
       "      <td>Everyone</td>\n",
       "      <td>Comics</td>\n",
       "      <td>June 26, 2018</td>\n",
       "      <td>2.0</td>\n",
       "      <td>4.0</td>\n",
       "    </tr>\n",
       "    <tr>\n",
       "      <th>612</th>\n",
       "      <td>American Girls Mobile Numbers</td>\n",
       "      <td>DATING</td>\n",
       "      <td>5.0</td>\n",
       "      <td>5</td>\n",
       "      <td>4.4</td>\n",
       "      <td>1000.0</td>\n",
       "      <td>Free</td>\n",
       "      <td>0.0</td>\n",
       "      <td>Mature 17+</td>\n",
       "      <td>Dating</td>\n",
       "      <td>July 17, 2018</td>\n",
       "      <td>3.0</td>\n",
       "      <td>4.0</td>\n",
       "    </tr>\n",
       "    <tr>\n",
       "      <th>615</th>\n",
       "      <td>Awake Dating</td>\n",
       "      <td>DATING</td>\n",
       "      <td>5.0</td>\n",
       "      <td>2</td>\n",
       "      <td>70.0</td>\n",
       "      <td>100.0</td>\n",
       "      <td>Free</td>\n",
       "      <td>0.0</td>\n",
       "      <td>Mature 17+</td>\n",
       "      <td>Dating</td>\n",
       "      <td>July 24, 2018</td>\n",
       "      <td>2.2.9</td>\n",
       "      <td>4.0</td>\n",
       "    </tr>\n",
       "    <tr>\n",
       "      <th>633</th>\n",
       "      <td>Spine- The dating app</td>\n",
       "      <td>DATING</td>\n",
       "      <td>5.0</td>\n",
       "      <td>5</td>\n",
       "      <td>9.3</td>\n",
       "      <td>500.0</td>\n",
       "      <td>Free</td>\n",
       "      <td>0.0</td>\n",
       "      <td>Teen</td>\n",
       "      <td>Dating</td>\n",
       "      <td>July 14, 2018</td>\n",
       "      <td>4.0</td>\n",
       "      <td>4.0</td>\n",
       "    </tr>\n",
       "    <tr>\n",
       "      <th>636</th>\n",
       "      <td>Girls Live Talk - Free Text and Video Chat</td>\n",
       "      <td>DATING</td>\n",
       "      <td>5.0</td>\n",
       "      <td>6</td>\n",
       "      <td>5.0</td>\n",
       "      <td>100.0</td>\n",
       "      <td>Free</td>\n",
       "      <td>0.0</td>\n",
       "      <td>Mature 17+</td>\n",
       "      <td>Dating</td>\n",
       "      <td>August 1, 2018</td>\n",
       "      <td>8.2</td>\n",
       "      <td>4.0</td>\n",
       "    </tr>\n",
       "  </tbody>\n",
       "</table>\n",
       "</div>"
      ],
      "text/plain": [
       "                                            App Category  Rating  Reviews  \\\n",
       "329                Hojiboy Tojiboyev Life Hacks   COMICS     5.0       15   \n",
       "612               American Girls Mobile Numbers   DATING     5.0        5   \n",
       "615                                Awake Dating   DATING     5.0        2   \n",
       "633                       Spine- The dating app   DATING     5.0        5   \n",
       "636  Girls Live Talk - Free Text and Video Chat   DATING     5.0        6   \n",
       "\n",
       "     Size  Installs  Type  Price Content Rating  Genres    Last Updated  \\\n",
       "329  37.0    1000.0  Free    0.0       Everyone  Comics   June 26, 2018   \n",
       "612   4.4    1000.0  Free    0.0     Mature 17+  Dating   July 17, 2018   \n",
       "615  70.0     100.0  Free    0.0     Mature 17+  Dating   July 24, 2018   \n",
       "633   9.3     500.0  Free    0.0           Teen  Dating   July 14, 2018   \n",
       "636   5.0     100.0  Free    0.0     Mature 17+  Dating  August 1, 2018   \n",
       "\n",
       "    Current Ver  Android Ver  \n",
       "329         2.0          4.0  \n",
       "612         3.0          4.0  \n",
       "615       2.2.9          4.0  \n",
       "633         4.0          4.0  \n",
       "636         8.2          4.0  "
      ]
     },
     "execution_count": 29,
     "metadata": {},
     "output_type": "execute_result"
    }
   ],
   "source": [
    "Playstore_full = Playstore[Playstore.Rating == 5]\n",
    "\n",
    "Playstore_full.head()"
   ]
  },
  {
   "cell_type": "markdown",
   "id": "7fc5cc2f",
   "metadata": {},
   "source": [
    "Distribution plot of 'Installs' of Apps with 5.0 Ratings"
   ]
  },
  {
   "cell_type": "code",
   "execution_count": 30,
   "id": "ee061d63",
   "metadata": {},
   "outputs": [
    {
     "name": "stderr",
     "output_type": "stream",
     "text": [
      "C:\\Users\\Home\\anaconda3\\lib\\site-packages\\seaborn\\distributions.py:2619: FutureWarning: `distplot` is a deprecated function and will be removed in a future version. Please adapt your code to use either `displot` (a figure-level function with similar flexibility) or `histplot` (an axes-level function for histograms).\n",
      "  warnings.warn(msg, FutureWarning)\n"
     ]
    },
    {
     "data": {
      "text/plain": [
       "<AxesSubplot:xlabel='Installs', ylabel='Density'>"
      ]
     },
     "execution_count": 30,
     "metadata": {},
     "output_type": "execute_result"
    },
    {
     "data": {
      "image/png": "[encoded data removed]",
      "text/plain": [
       "<Figure size 432x288 with 1 Axes>"
      ]
     },
     "metadata": {
      "needs_background": "light"
     },
     "output_type": "display_data"
    }
   ],
   "source": [
    "sns.distplot(Playstore_full.Installs)"
   ]
  },
  {
   "cell_type": "code",
   "execution_count": 31,
   "id": "97b8a47e",
   "metadata": {},
   "outputs": [
    {
     "data": {
      "text/plain": [
       "1.0          3\n",
       "5.0          8\n",
       "10.0        48\n",
       "50.0        32\n",
       "100.0      112\n",
       "500.0       27\n",
       "1000.0      37\n",
       "5000.0       3\n",
       "10000.0      1\n",
       "Name: Installs, dtype: int64"
      ]
     },
     "execution_count": 31,
     "metadata": {},
     "output_type": "execute_result"
    }
   ],
   "source": [
    "Playstore_full.Installs.value_counts().sort_index()"
   ]
  },
  {
   "cell_type": "markdown",
   "id": "aeac194d",
   "metadata": {},
   "source": [
    "Insight : There are many Apps that have full ratings but less downloads/installs. So we can't really consider those apps as the best ones."
   ]
  },
  {
   "cell_type": "markdown",
   "id": "5fba4345",
   "metadata": {},
   "source": [
    "Consider the Apps with 5.0 Ratings and Maximum Installs :"
   ]
  },
  {
   "cell_type": "code",
   "execution_count": 32,
   "id": "6ac287bc",
   "metadata": {},
   "outputs": [
    {
     "name": "stderr",
     "output_type": "stream",
     "text": [
      "C:\\Users\\Home\\AppData\\Local\\Temp\\ipykernel_14960\\2678389387.py:1: UserWarning: Boolean Series key will be reindexed to match DataFrame index.\n",
      "  Playstore_full_maxinstalls = Playstore_full[Playstore.Installs > 1000]\n"
     ]
    },
    {
     "data": {
      "text/html": [
       "<div>\n",
       "<style scoped>\n",
       "    .dataframe tbody tr th:only-of-type {\n",
       "        vertical-align: middle;\n",
       "    }\n",
       "\n",
       "    .dataframe tbody tr th {\n",
       "        vertical-align: top;\n",
       "    }\n",
       "\n",
       "    .dataframe thead th {\n",
       "        text-align: right;\n",
       "    }\n",
       "</style>\n",
       "<table border=\"1\" class=\"dataframe\">\n",
       "  <thead>\n",
       "    <tr style=\"text-align: right;\">\n",
       "      <th></th>\n",
       "      <th>App</th>\n",
       "      <th>Category</th>\n",
       "      <th>Installs</th>\n",
       "      <th>Rating</th>\n",
       "    </tr>\n",
       "  </thead>\n",
       "  <tbody>\n",
       "    <tr>\n",
       "      <th>7514</th>\n",
       "      <td>CL Keyboard - Myanmar Keyboard (No Ads)</td>\n",
       "      <td>TOOLS</td>\n",
       "      <td>5000.0</td>\n",
       "      <td>5.0</td>\n",
       "    </tr>\n",
       "    <tr>\n",
       "      <th>8058</th>\n",
       "      <td>Oración CX</td>\n",
       "      <td>LIFESTYLE</td>\n",
       "      <td>5000.0</td>\n",
       "      <td>5.0</td>\n",
       "    </tr>\n",
       "    <tr>\n",
       "      <th>8260</th>\n",
       "      <td>Superheroes, Marvel, DC, Comics, TV, Movies News</td>\n",
       "      <td>COMICS</td>\n",
       "      <td>5000.0</td>\n",
       "      <td>5.0</td>\n",
       "    </tr>\n",
       "    <tr>\n",
       "      <th>9511</th>\n",
       "      <td>Ek Bander Ne Kholi Dukan</td>\n",
       "      <td>FAMILY</td>\n",
       "      <td>10000.0</td>\n",
       "      <td>5.0</td>\n",
       "    </tr>\n",
       "  </tbody>\n",
       "</table>\n",
       "</div>"
      ],
      "text/plain": [
       "                                                   App   Category  Installs  \\\n",
       "7514           CL Keyboard - Myanmar Keyboard (No Ads)      TOOLS    5000.0   \n",
       "8058                                        Oración CX  LIFESTYLE    5000.0   \n",
       "8260  Superheroes, Marvel, DC, Comics, TV, Movies News     COMICS    5000.0   \n",
       "9511                          Ek Bander Ne Kholi Dukan     FAMILY   10000.0   \n",
       "\n",
       "      Rating  \n",
       "7514     5.0  \n",
       "8058     5.0  \n",
       "8260     5.0  \n",
       "9511     5.0  "
      ]
     },
     "execution_count": 32,
     "metadata": {},
     "output_type": "execute_result"
    }
   ],
   "source": [
    "Playstore_full_maxinstalls = Playstore_full[Playstore.Installs > 1000]\n",
    "Playstore_full_maxinstalls[['App', 'Category', 'Installs','Rating']]"
   ]
  },
  {
   "cell_type": "markdown",
   "id": "d71646d8",
   "metadata": {},
   "source": [
    "Checking the No. of Reviews of 5.0 Rating Apps"
   ]
  },
  {
   "cell_type": "code",
   "execution_count": 33,
   "id": "c38daa3d",
   "metadata": {},
   "outputs": [
    {
     "name": "stderr",
     "output_type": "stream",
     "text": [
      "C:\\Users\\Home\\anaconda3\\lib\\site-packages\\seaborn\\distributions.py:2619: FutureWarning: `distplot` is a deprecated function and will be removed in a future version. Please adapt your code to use either `displot` (a figure-level function with similar flexibility) or `histplot` (an axes-level function for histograms).\n",
      "  warnings.warn(msg, FutureWarning)\n"
     ]
    },
    {
     "data": {
      "text/plain": [
       "<AxesSubplot:xlabel='Reviews', ylabel='Density'>"
      ]
     },
     "execution_count": 33,
     "metadata": {},
     "output_type": "execute_result"
    },
    {
     "data": {
      "image/png": "[encoded data removed]",
      "text/plain": [
       "<Figure size 432x288 with 1 Axes>"
      ]
     },
     "metadata": {
      "needs_background": "light"
     },
     "output_type": "display_data"
    }
   ],
   "source": [
    "sns.distplot(Playstore_full.Reviews)"
   ]
  },
  {
   "cell_type": "markdown",
   "id": "2a0d3b3a",
   "metadata": {},
   "source": [
    "The above distribution is clearly skewed. Apps with very few reviews easily managed to get 5.0 ratings which can be misleading.\n",
    "So let's filter out the ones with more than 30 reviews. These filtered ones are the apps that really stand for 5.0 rating."
   ]
  },
  {
   "cell_type": "code",
   "execution_count": 34,
   "id": "f31210e9",
   "metadata": {},
   "outputs": [
    {
     "name": "stderr",
     "output_type": "stream",
     "text": [
      "C:\\Users\\Home\\AppData\\Local\\Temp\\ipykernel_14960\\2540677971.py:1: UserWarning: Boolean Series key will be reindexed to match DataFrame index.\n",
      "  Playstore_full = Playstore_full[Playstore.Reviews > 30]\n"
     ]
    }
   ],
   "source": [
    "Playstore_full = Playstore_full[Playstore.Reviews > 30]"
   ]
  },
  {
   "cell_type": "code",
   "execution_count": 35,
   "id": "4bbb57cf",
   "metadata": {},
   "outputs": [
    {
     "name": "stdout",
     "output_type": "stream",
     "text": [
      "No. of Apps having 5.0 Rating with sufficient Reviews:  16\n"
     ]
    }
   ],
   "source": [
    "print(\"No. of Apps having 5.0 Rating with sufficient Reviews: \",Playstore_full.App.count())"
   ]
  },
  {
   "cell_type": "code",
   "execution_count": 36,
   "id": "fa7697ec",
   "metadata": {},
   "outputs": [
    {
     "name": "stderr",
     "output_type": "stream",
     "text": [
      "C:\\Users\\Home\\anaconda3\\lib\\site-packages\\seaborn\\_decorators.py:36: FutureWarning: Pass the following variable as a keyword arg: x. From version 0.12, the only valid positional argument will be `data`, and passing other arguments without an explicit keyword will result in an error or misinterpretation.\n",
      "  warnings.warn(\n"
     ]
    },
    {
     "data": {
      "text/plain": [
       "<AxesSubplot:xlabel='Genres', ylabel='count'>"
      ]
     },
     "execution_count": 36,
     "metadata": {},
     "output_type": "execute_result"
    },
    {
     "data": {
      "image/png": "[encoded data removed]",
      "text/plain": [
       "<Figure size 864x360 with 1 Axes>"
      ]
     },
     "metadata": {
      "needs_background": "light"
     },
     "output_type": "display_data"
    }
   ],
   "source": [
    "plt.figure(figsize=(12,5))\n",
    "sns.countplot(Playstore_full.Genres)"
   ]
  },
  {
   "cell_type": "markdown",
   "id": "71236317",
   "metadata": {},
   "source": [
    "Insight : Apps related to Education, LifeStyle and Tools seem to fetch full Ratings with sufficient number of reviews."
   ]
  },
  {
   "cell_type": "code",
   "execution_count": 37,
   "id": "709c5339",
   "metadata": {},
   "outputs": [
    {
     "name": "stderr",
     "output_type": "stream",
     "text": [
      "C:\\Users\\Home\\anaconda3\\lib\\site-packages\\seaborn\\_decorators.py:36: FutureWarning: Pass the following variable as a keyword arg: x. From version 0.12, the only valid positional argument will be `data`, and passing other arguments without an explicit keyword will result in an error or misinterpretation.\n",
      "  warnings.warn(\n"
     ]
    },
    {
     "data": {
      "text/plain": [
       "<AxesSubplot:xlabel='Price', ylabel='count'>"
      ]
     },
     "execution_count": 37,
     "metadata": {},
     "output_type": "execute_result"
    },
    {
     "data": {
      "image/png": "[encoded data removed]",
      "text/plain": [
       "<Figure size 432x288 with 1 Axes>"
      ]
     },
     "metadata": {
      "needs_background": "light"
     },
     "output_type": "display_data"
    }
   ],
   "source": [
    "sns.countplot(Playstore_full.Price)"
   ]
  },
  {
   "cell_type": "markdown",
   "id": "9dd707f1",
   "metadata": {},
   "source": [
    "Insight : All the Apps with 5.0 ratings are Free to install."
   ]
  },
  {
   "cell_type": "markdown",
   "id": "835038f3",
   "metadata": {},
   "source": [
    "# Unsupervised Methods"
   ]
  },
  {
   "cell_type": "code",
   "execution_count": 38,
   "id": "d5d13e9f",
   "metadata": {},
   "outputs": [],
   "source": [
    "x=Playstore.drop([\"Category\",\"Installs\"],axis=1)\n",
    "y=Playstore[\"Installs\"]"
   ]
  },
  {
   "cell_type": "code",
   "execution_count": 39,
   "id": "d63a58b6",
   "metadata": {},
   "outputs": [
    {
     "data": {
      "text/html": [
       "<div>\n",
       "<style scoped>\n",
       "    .dataframe tbody tr th:only-of-type {\n",
       "        vertical-align: middle;\n",
       "    }\n",
       "\n",
       "    .dataframe tbody tr th {\n",
       "        vertical-align: top;\n",
       "    }\n",
       "\n",
       "    .dataframe thead th {\n",
       "        text-align: right;\n",
       "    }\n",
       "</style>\n",
       "<table border=\"1\" class=\"dataframe\">\n",
       "  <thead>\n",
       "    <tr style=\"text-align: right;\">\n",
       "      <th></th>\n",
       "      <th>App</th>\n",
       "      <th>Rating</th>\n",
       "      <th>Reviews</th>\n",
       "      <th>Size</th>\n",
       "      <th>Type</th>\n",
       "      <th>Price</th>\n",
       "      <th>Content Rating</th>\n",
       "      <th>Genres</th>\n",
       "      <th>Last Updated</th>\n",
       "      <th>Current Ver</th>\n",
       "      <th>Android Ver</th>\n",
       "    </tr>\n",
       "  </thead>\n",
       "  <tbody>\n",
       "    <tr>\n",
       "      <th>0</th>\n",
       "      <td>Photo Editor &amp; Candy Camera &amp; Grid &amp; ScrapBook</td>\n",
       "      <td>4.1</td>\n",
       "      <td>159</td>\n",
       "      <td>19.0</td>\n",
       "      <td>Free</td>\n",
       "      <td>0.0</td>\n",
       "      <td>Everyone</td>\n",
       "      <td>Art &amp; Design</td>\n",
       "      <td>January 7, 2018</td>\n",
       "      <td>1.0.0</td>\n",
       "      <td>4.0</td>\n",
       "    </tr>\n",
       "    <tr>\n",
       "      <th>1</th>\n",
       "      <td>Coloring book moana</td>\n",
       "      <td>3.9</td>\n",
       "      <td>967</td>\n",
       "      <td>14.0</td>\n",
       "      <td>Free</td>\n",
       "      <td>0.0</td>\n",
       "      <td>Everyone</td>\n",
       "      <td>Art &amp; Design;Pretend Play</td>\n",
       "      <td>January 15, 2018</td>\n",
       "      <td>2.0.0</td>\n",
       "      <td>4.0</td>\n",
       "    </tr>\n",
       "    <tr>\n",
       "      <th>2</th>\n",
       "      <td>U Launcher Lite – FREE Live Cool Themes, Hide ...</td>\n",
       "      <td>4.7</td>\n",
       "      <td>87510</td>\n",
       "      <td>8.7</td>\n",
       "      <td>Free</td>\n",
       "      <td>0.0</td>\n",
       "      <td>Everyone</td>\n",
       "      <td>Art &amp; Design</td>\n",
       "      <td>August 1, 2018</td>\n",
       "      <td>1.2.4</td>\n",
       "      <td>4.0</td>\n",
       "    </tr>\n",
       "    <tr>\n",
       "      <th>3</th>\n",
       "      <td>Sketch - Draw &amp; Paint</td>\n",
       "      <td>4.5</td>\n",
       "      <td>215644</td>\n",
       "      <td>25.0</td>\n",
       "      <td>Free</td>\n",
       "      <td>0.0</td>\n",
       "      <td>Teen</td>\n",
       "      <td>Art &amp; Design</td>\n",
       "      <td>June 8, 2018</td>\n",
       "      <td>Varies with device</td>\n",
       "      <td>4.0</td>\n",
       "    </tr>\n",
       "    <tr>\n",
       "      <th>4</th>\n",
       "      <td>Pixel Draw - Number Art Coloring Book</td>\n",
       "      <td>4.3</td>\n",
       "      <td>967</td>\n",
       "      <td>2.8</td>\n",
       "      <td>Free</td>\n",
       "      <td>0.0</td>\n",
       "      <td>Everyone</td>\n",
       "      <td>Art &amp; Design;Creativity</td>\n",
       "      <td>June 20, 2018</td>\n",
       "      <td>1.1</td>\n",
       "      <td>4.0</td>\n",
       "    </tr>\n",
       "    <tr>\n",
       "      <th>...</th>\n",
       "      <td>...</td>\n",
       "      <td>...</td>\n",
       "      <td>...</td>\n",
       "      <td>...</td>\n",
       "      <td>...</td>\n",
       "      <td>...</td>\n",
       "      <td>...</td>\n",
       "      <td>...</td>\n",
       "      <td>...</td>\n",
       "      <td>...</td>\n",
       "      <td>...</td>\n",
       "    </tr>\n",
       "    <tr>\n",
       "      <th>10834</th>\n",
       "      <td>FR Calculator</td>\n",
       "      <td>4.0</td>\n",
       "      <td>7</td>\n",
       "      <td>2.6</td>\n",
       "      <td>Free</td>\n",
       "      <td>0.0</td>\n",
       "      <td>Everyone</td>\n",
       "      <td>Education</td>\n",
       "      <td>June 18, 2017</td>\n",
       "      <td>1.0.0</td>\n",
       "      <td>4.0</td>\n",
       "    </tr>\n",
       "    <tr>\n",
       "      <th>10836</th>\n",
       "      <td>Sya9a Maroc - FR</td>\n",
       "      <td>4.5</td>\n",
       "      <td>38</td>\n",
       "      <td>53.0</td>\n",
       "      <td>Free</td>\n",
       "      <td>0.0</td>\n",
       "      <td>Everyone</td>\n",
       "      <td>Education</td>\n",
       "      <td>July 25, 2017</td>\n",
       "      <td>1.48</td>\n",
       "      <td>4.0</td>\n",
       "    </tr>\n",
       "    <tr>\n",
       "      <th>10837</th>\n",
       "      <td>Fr. Mike Schmitz Audio Teachings</td>\n",
       "      <td>5.0</td>\n",
       "      <td>4</td>\n",
       "      <td>3.6</td>\n",
       "      <td>Free</td>\n",
       "      <td>0.0</td>\n",
       "      <td>Everyone</td>\n",
       "      <td>Education</td>\n",
       "      <td>July 6, 2018</td>\n",
       "      <td>1.0</td>\n",
       "      <td>4.0</td>\n",
       "    </tr>\n",
       "    <tr>\n",
       "      <th>10839</th>\n",
       "      <td>The SCP Foundation DB fr nn5n</td>\n",
       "      <td>4.5</td>\n",
       "      <td>114</td>\n",
       "      <td>0.0</td>\n",
       "      <td>Free</td>\n",
       "      <td>0.0</td>\n",
       "      <td>Mature 17+</td>\n",
       "      <td>Books &amp; Reference</td>\n",
       "      <td>January 19, 2015</td>\n",
       "      <td>Varies with device</td>\n",
       "      <td>0.0</td>\n",
       "    </tr>\n",
       "    <tr>\n",
       "      <th>10840</th>\n",
       "      <td>iHoroscope - 2018 Daily Horoscope &amp; Astrology</td>\n",
       "      <td>4.5</td>\n",
       "      <td>398307</td>\n",
       "      <td>19.0</td>\n",
       "      <td>Free</td>\n",
       "      <td>0.0</td>\n",
       "      <td>Everyone</td>\n",
       "      <td>Lifestyle</td>\n",
       "      <td>July 25, 2018</td>\n",
       "      <td>Varies with device</td>\n",
       "      <td>0.0</td>\n",
       "    </tr>\n",
       "  </tbody>\n",
       "</table>\n",
       "<p>8886 rows × 11 columns</p>\n",
       "</div>"
      ],
      "text/plain": [
       "                                                     App  Rating  Reviews  \\\n",
       "0         Photo Editor & Candy Camera & Grid & ScrapBook     4.1      159   \n",
       "1                                    Coloring book moana     3.9      967   \n",
       "2      U Launcher Lite – FREE Live Cool Themes, Hide ...     4.7    87510   \n",
       "3                                  Sketch - Draw & Paint     4.5   215644   \n",
       "4                  Pixel Draw - Number Art Coloring Book     4.3      967   \n",
       "...                                                  ...     ...      ...   \n",
       "10834                                      FR Calculator     4.0        7   \n",
       "10836                                   Sya9a Maroc - FR     4.5       38   \n",
       "10837                   Fr. Mike Schmitz Audio Teachings     5.0        4   \n",
       "10839                      The SCP Foundation DB fr nn5n     4.5      114   \n",
       "10840      iHoroscope - 2018 Daily Horoscope & Astrology     4.5   398307   \n",
       "\n",
       "       Size  Type  Price Content Rating                     Genres  \\\n",
       "0      19.0  Free    0.0       Everyone               Art & Design   \n",
       "1      14.0  Free    0.0       Everyone  Art & Design;Pretend Play   \n",
       "2       8.7  Free    0.0       Everyone               Art & Design   \n",
       "3      25.0  Free    0.0           Teen               Art & Design   \n",
       "4       2.8  Free    0.0       Everyone    Art & Design;Creativity   \n",
       "...     ...   ...    ...            ...                        ...   \n",
       "10834   2.6  Free    0.0       Everyone                  Education   \n",
       "10836  53.0  Free    0.0       Everyone                  Education   \n",
       "10837   3.6  Free    0.0       Everyone                  Education   \n",
       "10839   0.0  Free    0.0     Mature 17+          Books & Reference   \n",
       "10840  19.0  Free    0.0       Everyone                  Lifestyle   \n",
       "\n",
       "           Last Updated         Current Ver  Android Ver  \n",
       "0       January 7, 2018               1.0.0          4.0  \n",
       "1      January 15, 2018               2.0.0          4.0  \n",
       "2        August 1, 2018               1.2.4          4.0  \n",
       "3          June 8, 2018  Varies with device          4.0  \n",
       "4         June 20, 2018                 1.1          4.0  \n",
       "...                 ...                 ...          ...  \n",
       "10834     June 18, 2017               1.0.0          4.0  \n",
       "10836     July 25, 2017                1.48          4.0  \n",
       "10837      July 6, 2018                 1.0          4.0  \n",
       "10839  January 19, 2015  Varies with device          0.0  \n",
       "10840     July 25, 2018  Varies with device          0.0  \n",
       "\n",
       "[8886 rows x 11 columns]"
      ]
     },
     "execution_count": 39,
     "metadata": {},
     "output_type": "execute_result"
    }
   ],
   "source": [
    "x"
   ]
  },
  {
   "cell_type": "code",
   "execution_count": 40,
   "id": "673a95b4",
   "metadata": {},
   "outputs": [
    {
     "data": {
      "text/plain": [
       "0           10000.0\n",
       "1          500000.0\n",
       "2         5000000.0\n",
       "3        50000000.0\n",
       "4          100000.0\n",
       "            ...    \n",
       "10834         500.0\n",
       "10836        5000.0\n",
       "10837         100.0\n",
       "10839        1000.0\n",
       "10840    10000000.0\n",
       "Name: Installs, Length: 8886, dtype: float64"
      ]
     },
     "execution_count": 40,
     "metadata": {},
     "output_type": "execute_result"
    }
   ],
   "source": [
    "y"
   ]
  },
  {
   "cell_type": "code",
   "execution_count": 41,
   "id": "2d74175d",
   "metadata": {},
   "outputs": [],
   "source": [
    "x_transformed= OrdinalEncoder().fit_transform(x) "
   ]
  },
  {
   "cell_type": "code",
   "execution_count": 42,
   "id": "6ede1ee5",
   "metadata": {},
   "outputs": [],
   "source": [
    "# Preparing the data- Scaling/ Handling the data in such way they can belong in a spesific range\n",
    "# and represent the same degree of difference\n",
    "scaled_data= scale(x_transformed)"
   ]
  },
  {
   "cell_type": "code",
   "execution_count": 43,
   "id": "66e58268",
   "metadata": {},
   "outputs": [
    {
     "data": {
      "text/plain": [
       "array([[ 0.70909178, -0.1697994 , -0.99556062, ..., -0.20600172,\n",
       "        -1.29806986,  0.50615525],\n",
       "       [-0.84620985, -0.55426557, -0.70643486, ..., -0.44782642,\n",
       "        -0.33436335,  0.50615525],\n",
       "       [ 1.35137924,  0.98359911,  0.94857861, ..., -1.52504552,\n",
       "        -0.93653736,  0.50615525],\n",
       "       ...,\n",
       "       [-0.18273877,  1.56029837, -1.07530172, ...,  0.18657084,\n",
       "        -1.30263178,  0.50615525],\n",
       "       [ 1.25520559,  0.59913294, -1.01871126, ..., -0.40071771,\n",
       "         1.52462079, -2.12292294],\n",
       "       [ 1.6568471 ,  0.59913294,  1.45892159, ...,  0.04524472,\n",
       "         1.52462079, -2.12292294]])"
      ]
     },
     "execution_count": 43,
     "metadata": {},
     "output_type": "execute_result"
    }
   ],
   "source": [
    "scaled_data"
   ]
  },
  {
   "cell_type": "code",
   "execution_count": 44,
   "id": "d9549198",
   "metadata": {},
   "outputs": [
    {
     "data": {
      "text/plain": [
       "19"
      ]
     },
     "execution_count": 44,
     "metadata": {},
     "output_type": "execute_result"
    }
   ],
   "source": [
    "len(np.unique(y))"
   ]
  },
  {
   "cell_type": "code",
   "execution_count": 45,
   "id": "8555e33c",
   "metadata": {},
   "outputs": [
    {
     "data": {
      "text/plain": [
       "array([1.e+04, 5.e+05, 5.e+06, 5.e+07, 1.e+05, 5.e+04, 1.e+06, 1.e+07,\n",
       "       5.e+03, 1.e+08, 1.e+09, 1.e+03, 5.e+08, 1.e+02, 5.e+02, 1.e+01,\n",
       "       5.e+00, 5.e+01, 1.e+00])"
      ]
     },
     "execution_count": 45,
     "metadata": {},
     "output_type": "execute_result"
    }
   ],
   "source": [
    "y.unique()"
   ]
  },
  {
   "cell_type": "code",
   "execution_count": 46,
   "id": "5e58dd80",
   "metadata": {},
   "outputs": [
    {
     "data": {
      "text/plain": [
       "AgglomerativeClustering(affinity='cosine', linkage='average', n_clusters=19)"
      ]
     },
     "execution_count": 46,
     "metadata": {},
     "output_type": "execute_result"
    }
   ],
   "source": [
    "# Hierarchical agglomerative clustering - bottom-up approach\n",
    "n_samples, n_features = scaled_data.shape \n",
    "n_digits = len(np.unique(y)) \n",
    "model = cluster.AgglomerativeClustering(n_clusters=n_digits, linkage=\"average\", affinity=\"cosine\") \n",
    "model.fit(scaled_data) "
   ]
  },
  {
   "cell_type": "code",
   "execution_count": 47,
   "id": "dc6ce386",
   "metadata": {},
   "outputs": [
    {
     "name": "stdout",
     "output_type": "stream",
     "text": [
      "[10  8 10 ...  8  1  1]\n"
     ]
    }
   ],
   "source": [
    "print (model.labels_)"
   ]
  },
  {
   "cell_type": "code",
   "execution_count": 48,
   "id": "eae410ed",
   "metadata": {},
   "outputs": [
    {
     "name": "stdout",
     "output_type": "stream",
     "text": [
      "0.08047605967153028\n",
      "0.13797390842527352\n",
      "0.14807731311542197\n"
     ]
    }
   ],
   "source": [
    "print (metrics.silhouette_score(scaled_data,model.labels_))\n",
    "print (metrics.completeness_score(y, model.labels_))\n",
    "print (metrics.homogeneity_score(y, model.labels_))"
   ]
  },
  {
   "cell_type": "code",
   "execution_count": 49,
   "id": "44913194",
   "metadata": {},
   "outputs": [
    {
     "data": {
      "image/png": "[encoded data removed]",
      "text/plain": [
       "<Figure size 432x288 with 1 Axes>"
      ]
     },
     "metadata": {
      "needs_background": "light"
     },
     "output_type": "display_data"
    }
   ],
   "source": [
    "# Creating Hierarchical Clustering Dendrogram\n",
    "\n",
    "model= linkage(scaled_data, \"ward\")\n",
    "plt.figure()\n",
    "plt.title(\"Hierarchical Clustering Dendrogram\")\n",
    "plt.xlabel(\"sample index\")\n",
    "plt.ylabel(\"distance\")\n",
    "dendrogram(model, leaf_rotation=90.,  leaf_font_size=8.)\n",
    "plt.show()"
   ]
  },
  {
   "cell_type": "code",
   "execution_count": 50,
   "id": "8b8d964b",
   "metadata": {},
   "outputs": [
    {
     "name": "stdout",
     "output_type": "stream",
     "text": [
      "2\n",
      "0.19512666122121675\n",
      "0.1772352227974184\n",
      "0.03089224345543299\n",
      "3\n",
      "0.22693873862737815\n",
      "0.18376532635627083\n",
      "0.048231366978553895\n",
      "4\n",
      "0.20706117183915493\n",
      "0.12963878219374478\n",
      "0.052500007995839953\n",
      "5\n",
      "0.16086197078615597\n",
      "0.22820485482709713\n",
      "0.13117519237203146\n",
      "6\n",
      "0.16520819494468553\n",
      "0.2113986064852894\n",
      "0.13988409988255615\n",
      "7\n",
      "0.15419342343706186\n",
      "0.18920862392388837\n",
      "0.14131633191044074\n",
      "8\n",
      "0.15405428827976267\n",
      "0.18535488765252955\n",
      "0.14195426292681435\n",
      "9\n",
      "0.15037331709339014\n",
      "0.16327097474889832\n",
      "0.13533994844369437\n",
      "10\n",
      "0.1473226674950332\n",
      "0.1559213811414562\n",
      "0.13750415956020437\n",
      "11\n",
      "0.14824603398480019\n",
      "0.15109421622182687\n",
      "0.13828370501171433\n",
      "12\n",
      "0.14716036979146047\n",
      "0.1608314884125856\n",
      "0.15237226229854367\n",
      "13\n",
      "0.1478442561310819\n",
      "0.15297141870638786\n",
      "0.1499225949076283\n",
      "14\n",
      "0.15412580983981658\n",
      "0.1635160354839918\n",
      "0.16087575150100397\n"
     ]
    }
   ],
   "source": [
    "n_samples, n_features = scaled_data.shape\n",
    "n_digits = len(np.unique(y))\n",
    "for k in range(2, 15): \n",
    "    kmeans = cluster.KMeans(n_clusters=k)   \n",
    "    kmeans.fit(scaled_data)  \n",
    "    print(k)    \n",
    "    print(metrics.silhouette_score(scaled_data, kmeans.labels_))\n",
    "    print(metrics.completeness_score(y, kmeans.labels_))    \n",
    "    print(metrics.homogeneity_score(y, kmeans.labels_)) \n",
    "    \n",
    "# different results on every iteration because we are using random starting points# best score seems to be when k=13 (sometimes when k=14)"
   ]
  },
  {
   "cell_type": "code",
   "execution_count": 51,
   "id": "2a775a02",
   "metadata": {},
   "outputs": [
    {
     "name": "stdout",
     "output_type": "stream",
     "text": [
      "2\n",
      "0.3969678059299939\n",
      "0.17759958085209232\n",
      "0.017735152307616384\n",
      "3\n",
      "0.22693873862737815\n",
      "0.18376532635627083\n",
      "0.048231366978553895\n",
      "4\n",
      "0.20690675191334595\n",
      "0.13055128214621295\n",
      "0.052949882942160555\n",
      "5\n",
      "0.16105116752228876\n",
      "0.24353546644035054\n",
      "0.1396755519605508\n",
      "6\n",
      "0.16519746465079996\n",
      "0.21178999799603918\n",
      "0.14014308668522799\n",
      "7\n",
      "0.15431275178090434\n",
      "0.19136058814333842\n",
      "0.14289068853743483\n",
      "8\n",
      "0.15420923058054745\n",
      "0.19193664016562065\n",
      "0.14692298250425867\n",
      "9\n",
      "0.15049162922810574\n",
      "0.16551864413337689\n",
      "0.13717101364611178\n",
      "10\n",
      "0.15466917418786816\n",
      "0.1715265095806062\n",
      "0.14631323059968035\n",
      "11\n",
      "0.14605325977429187\n",
      "0.17113008108444344\n",
      "0.15675302002614558\n",
      "12\n",
      "0.15385481101460324\n",
      "0.15658324691393208\n",
      "0.14680909182088422\n",
      "13\n",
      "0.14626512200188413\n",
      "0.15597113088637585\n",
      "0.15166684009983625\n",
      "14\n",
      "0.14241619230125174\n",
      "0.15194470755306572\n",
      "0.15348242429019202\n"
     ]
    }
   ],
   "source": [
    "for k in range(2, 15): \n",
    "    kmeans = cluster.KMeans(n_clusters=k)   \n",
    "    kmeans.fit(scaled_data)  \n",
    "    print(k)    \n",
    "    print(metrics.silhouette_score(scaled_data, kmeans.labels_))\n",
    "    y_silhouette=metrics.silhouette_score(scaled_data, kmeans.labels_)\n",
    "    \n",
    "    print(metrics.completeness_score(y, kmeans.labels_))    \n",
    "    y_completeness=metrics.completeness_score(y, kmeans.labels_)\n",
    "    \n",
    "    \n",
    "    print(metrics.homogeneity_score(y, kmeans.labels_)) \n",
    "    y_homogeneity=(metrics.homogeneity_score(y, kmeans.labels_))\n",
    "    \n"
   ]
  },
  {
   "cell_type": "code",
   "execution_count": 52,
   "id": "4899084b",
   "metadata": {},
   "outputs": [
    {
     "name": "stdout",
     "output_type": "stream",
     "text": [
      "silhouette scores are:\n",
      "0.14241619230125174\n"
     ]
    }
   ],
   "source": [
    "print (\"silhouette scores are:\\n{}\".format(y_silhouette))"
   ]
  },
  {
   "cell_type": "code",
   "execution_count": 53,
   "id": "3855ccc5",
   "metadata": {},
   "outputs": [
    {
     "name": "stdout",
     "output_type": "stream",
     "text": [
      "completeness scores are:\n",
      "0.15194470755306572\n"
     ]
    }
   ],
   "source": [
    "print (\"completeness scores are:\\n{}\".format(y_completeness))"
   ]
  },
  {
   "cell_type": "code",
   "execution_count": 54,
   "id": "c33289a1",
   "metadata": {},
   "outputs": [
    {
     "name": "stdout",
     "output_type": "stream",
     "text": [
      "homogeneity scores are:\n",
      "0.15348242429019202\n"
     ]
    }
   ],
   "source": [
    "print (\"homogeneity scores are:\\n{}\".format(y_homogeneity))"
   ]
  },
  {
   "cell_type": "markdown",
   "id": "11178289",
   "metadata": {},
   "source": [
    "# Supervised Methods"
   ]
  },
  {
   "cell_type": "code",
   "execution_count": 55,
   "id": "595bcaf4",
   "metadata": {},
   "outputs": [],
   "source": [
    "x=Playstore[[\"Rating\",\"Reviews\",\"Size\",\"Price\",\"Android Ver\"]]\n",
    "y=Playstore[\"Installs\"]"
   ]
  },
  {
   "cell_type": "code",
   "execution_count": 56,
   "id": "e53ddda5",
   "metadata": {},
   "outputs": [
    {
     "data": {
      "text/html": [
       "<div>\n",
       "<style scoped>\n",
       "    .dataframe tbody tr th:only-of-type {\n",
       "        vertical-align: middle;\n",
       "    }\n",
       "\n",
       "    .dataframe tbody tr th {\n",
       "        vertical-align: top;\n",
       "    }\n",
       "\n",
       "    .dataframe thead th {\n",
       "        text-align: right;\n",
       "    }\n",
       "</style>\n",
       "<table border=\"1\" class=\"dataframe\">\n",
       "  <thead>\n",
       "    <tr style=\"text-align: right;\">\n",
       "      <th></th>\n",
       "      <th>Rating</th>\n",
       "      <th>Reviews</th>\n",
       "      <th>Size</th>\n",
       "      <th>Price</th>\n",
       "      <th>Android Ver</th>\n",
       "    </tr>\n",
       "  </thead>\n",
       "  <tbody>\n",
       "    <tr>\n",
       "      <th>0</th>\n",
       "      <td>4.1</td>\n",
       "      <td>159</td>\n",
       "      <td>19.0</td>\n",
       "      <td>0.0</td>\n",
       "      <td>4.0</td>\n",
       "    </tr>\n",
       "    <tr>\n",
       "      <th>1</th>\n",
       "      <td>3.9</td>\n",
       "      <td>967</td>\n",
       "      <td>14.0</td>\n",
       "      <td>0.0</td>\n",
       "      <td>4.0</td>\n",
       "    </tr>\n",
       "    <tr>\n",
       "      <th>2</th>\n",
       "      <td>4.7</td>\n",
       "      <td>87510</td>\n",
       "      <td>8.7</td>\n",
       "      <td>0.0</td>\n",
       "      <td>4.0</td>\n",
       "    </tr>\n",
       "    <tr>\n",
       "      <th>3</th>\n",
       "      <td>4.5</td>\n",
       "      <td>215644</td>\n",
       "      <td>25.0</td>\n",
       "      <td>0.0</td>\n",
       "      <td>4.0</td>\n",
       "    </tr>\n",
       "    <tr>\n",
       "      <th>4</th>\n",
       "      <td>4.3</td>\n",
       "      <td>967</td>\n",
       "      <td>2.8</td>\n",
       "      <td>0.0</td>\n",
       "      <td>4.0</td>\n",
       "    </tr>\n",
       "    <tr>\n",
       "      <th>...</th>\n",
       "      <td>...</td>\n",
       "      <td>...</td>\n",
       "      <td>...</td>\n",
       "      <td>...</td>\n",
       "      <td>...</td>\n",
       "    </tr>\n",
       "    <tr>\n",
       "      <th>10834</th>\n",
       "      <td>4.0</td>\n",
       "      <td>7</td>\n",
       "      <td>2.6</td>\n",
       "      <td>0.0</td>\n",
       "      <td>4.0</td>\n",
       "    </tr>\n",
       "    <tr>\n",
       "      <th>10836</th>\n",
       "      <td>4.5</td>\n",
       "      <td>38</td>\n",
       "      <td>53.0</td>\n",
       "      <td>0.0</td>\n",
       "      <td>4.0</td>\n",
       "    </tr>\n",
       "    <tr>\n",
       "      <th>10837</th>\n",
       "      <td>5.0</td>\n",
       "      <td>4</td>\n",
       "      <td>3.6</td>\n",
       "      <td>0.0</td>\n",
       "      <td>4.0</td>\n",
       "    </tr>\n",
       "    <tr>\n",
       "      <th>10839</th>\n",
       "      <td>4.5</td>\n",
       "      <td>114</td>\n",
       "      <td>0.0</td>\n",
       "      <td>0.0</td>\n",
       "      <td>0.0</td>\n",
       "    </tr>\n",
       "    <tr>\n",
       "      <th>10840</th>\n",
       "      <td>4.5</td>\n",
       "      <td>398307</td>\n",
       "      <td>19.0</td>\n",
       "      <td>0.0</td>\n",
       "      <td>0.0</td>\n",
       "    </tr>\n",
       "  </tbody>\n",
       "</table>\n",
       "<p>8886 rows × 5 columns</p>\n",
       "</div>"
      ],
      "text/plain": [
       "       Rating  Reviews  Size  Price  Android Ver\n",
       "0         4.1      159  19.0    0.0          4.0\n",
       "1         3.9      967  14.0    0.0          4.0\n",
       "2         4.7    87510   8.7    0.0          4.0\n",
       "3         4.5   215644  25.0    0.0          4.0\n",
       "4         4.3      967   2.8    0.0          4.0\n",
       "...       ...      ...   ...    ...          ...\n",
       "10834     4.0        7   2.6    0.0          4.0\n",
       "10836     4.5       38  53.0    0.0          4.0\n",
       "10837     5.0        4   3.6    0.0          4.0\n",
       "10839     4.5      114   0.0    0.0          0.0\n",
       "10840     4.5   398307  19.0    0.0          0.0\n",
       "\n",
       "[8886 rows x 5 columns]"
      ]
     },
     "execution_count": 56,
     "metadata": {},
     "output_type": "execute_result"
    }
   ],
   "source": [
    "x"
   ]
  },
  {
   "cell_type": "code",
   "execution_count": 57,
   "id": "af1abb04",
   "metadata": {},
   "outputs": [
    {
     "data": {
      "text/plain": [
       "0           10000.0\n",
       "1          500000.0\n",
       "2         5000000.0\n",
       "3        50000000.0\n",
       "4          100000.0\n",
       "            ...    \n",
       "10834         500.0\n",
       "10836        5000.0\n",
       "10837         100.0\n",
       "10839        1000.0\n",
       "10840    10000000.0\n",
       "Name: Installs, Length: 8886, dtype: float64"
      ]
     },
     "execution_count": 57,
     "metadata": {},
     "output_type": "execute_result"
    }
   ],
   "source": [
    "y"
   ]
  },
  {
   "cell_type": "code",
   "execution_count": 58,
   "id": "72882a2a",
   "metadata": {},
   "outputs": [],
   "source": [
    "x=x.values#attributes\n",
    "y=y.values#target"
   ]
  },
  {
   "cell_type": "code",
   "execution_count": 59,
   "id": "dce21225",
   "metadata": {},
   "outputs": [],
   "source": [
    "supervised_x_transformed= OrdinalEncoder().fit_transform(x)"
   ]
  },
  {
   "cell_type": "code",
   "execution_count": 60,
   "id": "6a82f585",
   "metadata": {},
   "outputs": [],
   "source": [
    "from sklearn.model_selection import train_test_split\n",
    "x_train,x_test,y_train,y_test=train_test_split(x,y,test_size=0.05,random_state=0)"
   ]
  },
  {
   "cell_type": "code",
   "execution_count": 61,
   "id": "602c40c7",
   "metadata": {},
   "outputs": [
    {
     "name": "stdout",
     "output_type": "stream",
     "text": [
      "LOGISTIC REGRESSION\n"
     ]
    },
    {
     "name": "stderr",
     "output_type": "stream",
     "text": [
      "C:\\Users\\Home\\anaconda3\\lib\\site-packages\\sklearn\\linear_model\\_logistic.py:814: ConvergenceWarning: lbfgs failed to converge (status=1):\n",
      "STOP: TOTAL NO. of ITERATIONS REACHED LIMIT.\n",
      "\n",
      "Increase the number of iterations (max_iter) or scale the data as shown in:\n",
      "    https://scikit-learn.org/stable/modules/preprocessing.html\n",
      "Please also refer to the documentation for alternative solver options:\n",
      "    https://scikit-learn.org/stable/modules/linear_model.html#logistic-regression\n",
      "  n_iter_i = _check_optimize_result(\n"
     ]
    },
    {
     "data": {
      "text/plain": [
       "array([[5.25798346e-02, 5.25798362e-02, 5.25798836e-02, ...,\n",
       "        5.26902272e-02, 5.26900476e-02, 5.26900206e-02],\n",
       "       [5.10676743e-02, 5.10676870e-02, 5.10678206e-02, ...,\n",
       "        5.44265682e-02, 5.44257159e-02, 5.44261984e-02],\n",
       "       [4.96671230e-02, 4.96671464e-02, 4.96674611e-02, ...,\n",
       "        5.60413765e-02, 5.60394373e-02, 5.60402982e-02],\n",
       "       ...,\n",
       "       [3.91308700e-25, 3.91386575e-25, 3.92139866e-25, ...,\n",
       "        1.52053012e-01, 1.50199471e-01, 1.51383238e-01],\n",
       "       [4.20590436e-02, 4.20591116e-02, 4.20598446e-02, ...,\n",
       "        6.49606224e-02, 6.49537751e-02, 6.49577216e-02],\n",
       "       [5.23051376e-02, 5.23051406e-02, 5.23051696e-02, ...,\n",
       "        5.30054471e-02, 5.30052711e-02, 5.30053695e-02]])"
      ]
     },
     "execution_count": 61,
     "metadata": {},
     "output_type": "execute_result"
    }
   ],
   "source": [
    "print(\"LOGISTIC REGRESSION\") \n",
    "lm = LogisticRegression()\n",
    "lm.fit(x_train,y_train)\n",
    "lm.predict_proba(x_test)"
   ]
  },
  {
   "cell_type": "code",
   "execution_count": 62,
   "id": "ed46df7a",
   "metadata": {},
   "outputs": [
    {
     "name": "stdout",
     "output_type": "stream",
     "text": [
      "[-1.91010824e-08 -1.86636395e-08 -1.43621202e-08 -1.53099251e-08\n",
      "  1.53148372e-09 -5.61351098e-09  2.85047647e-08  9.83904344e-09\n",
      "  4.74319938e-08  1.26459705e-08  5.79624760e-08  1.59005832e-08\n",
      "  6.12621885e-08  1.93353921e-09  2.18954076e-08 -3.65591831e-08\n",
      " -3.72893638e-08 -5.42849829e-08 -5.77236426e-08]\n"
     ]
    }
   ],
   "source": [
    "print(lm.intercept_)"
   ]
  },
  {
   "cell_type": "code",
   "execution_count": 63,
   "id": "1454eeb4",
   "metadata": {},
   "outputs": [
    {
     "name": "stdout",
     "output_type": "stream",
     "text": [
      "[[-7.81762868e-08 -1.63190400e-04 -6.79484628e-07 -2.90855771e-08\n",
      "  -6.66033671e-08]\n",
      " [-7.62442471e-08 -1.63189118e-04 -6.78821221e-07 -2.92663884e-08\n",
      "  -6.41974276e-08]\n",
      " [-5.62239466e-08 -1.63176729e-04 -5.42048229e-07 -2.20573192e-08\n",
      "  -4.94701880e-08]\n",
      " [-6.15899679e-08 -1.63171318e-04 -4.65838787e-07 -2.69778476e-08\n",
      "  -5.26781414e-08]\n",
      " [ 1.17977818e-08 -1.63020251e-04  3.67252415e-08  1.59652213e-08\n",
      "   1.01673940e-08]\n",
      " [-2.20971619e-08 -1.62963965e-04 -2.92881822e-07 -2.13794285e-08\n",
      "  -1.60794958e-08]\n",
      " [ 1.14776470e-07 -1.61139542e-04  9.29701868e-07  1.38441135e-07\n",
      "   1.04210019e-07]\n",
      " [ 3.78823420e-08 -1.60047575e-04  8.35889511e-07  7.37489779e-08\n",
      "   3.59640883e-08]\n",
      " [ 1.90027798e-07 -1.39245554e-04  2.21358583e-06  1.13942664e-07\n",
      "   1.66453313e-07]\n",
      " [ 5.02913681e-08 -1.32260946e-04  4.54187885e-07  1.24832731e-08\n",
      "   4.30643434e-08]\n",
      " [ 2.38573368e-07  9.55994133e-05  1.80267452e-06  2.81254445e-08\n",
      "   1.95638743e-07]\n",
      " [ 6.74828123e-08  1.71848720e-04  2.95140781e-07 -2.69876478e-08\n",
      "   5.29492008e-08]\n",
      " [ 2.59568859e-07  1.84747552e-04  1.67806797e-06 -2.90084075e-08\n",
      "   1.97986088e-07]\n",
      " [ 9.74548857e-09  1.85526137e-04 -2.29847149e-07 -3.28742983e-08\n",
      "  -5.66022183e-09]\n",
      " [ 9.85877678e-08  1.86683760e-04  3.09826987e-07 -3.21092243e-08\n",
      "   4.72671425e-08]\n",
      " [-1.53116040e-07  1.86646104e-04 -1.21201133e-06 -3.31761365e-08\n",
      "  -1.20032963e-07]\n",
      " [-1.55177019e-07  1.86820395e-04 -1.11257819e-06 -3.32848483e-08\n",
      "  -1.26862437e-07]\n",
      " [-2.30316170e-07  1.86741364e-04 -1.60071617e-06 -3.32329670e-08\n",
      "  -1.69824502e-07]\n",
      " [-2.45793216e-07  1.86791952e-04 -1.74157306e-06 -3.32666260e-08\n",
      "  -1.82291589e-07]]\n"
     ]
    }
   ],
   "source": [
    "print(lm.coef_)"
   ]
  },
  {
   "cell_type": "code",
   "execution_count": 64,
   "id": "0d16626c",
   "metadata": {},
   "outputs": [
    {
     "name": "stdout",
     "output_type": "stream",
     "text": [
      "              precision    recall  f1-score   support\n",
      "\n",
      "        10.0       0.00      0.00      0.00         1\n",
      "        50.0       0.00      0.00      0.00         1\n",
      "       100.0       0.00      0.00      0.00        17\n",
      "       500.0       0.00      0.00      0.00        11\n",
      "      1000.0       0.00      0.00      0.00        41\n",
      "      5000.0       0.00      0.00      0.00        25\n",
      "     10000.0       0.00      0.00      0.00        72\n",
      "     50000.0       0.00      0.00      0.00        22\n",
      "    100000.0       0.00      0.00      0.00        45\n",
      "    500000.0       0.00      0.00      0.00        25\n",
      "   1000000.0       0.00      0.00      0.00        66\n",
      "   5000000.0       0.00      0.00      0.00        36\n",
      "  10000000.0       0.00      0.00      0.00        55\n",
      "  50000000.0       0.00      0.00      0.00        13\n",
      " 100000000.0       0.03      1.00      0.06        10\n",
      " 500000000.0       0.00      0.00      0.00         3\n",
      "1000000000.0       0.00      0.00      0.00         2\n",
      "\n",
      "    accuracy                           0.02       445\n",
      "   macro avg       0.00      0.06      0.00       445\n",
      "weighted avg       0.00      0.02      0.00       445\n",
      "\n",
      "[[ 0  0  0  0  0  0  0  0  0  0  1  0  0  0  0  0  0]\n",
      " [ 0  0  0  0  0  0  0  0  0  0  0  0  1  0  0  0  0]\n",
      " [ 0  0  0  0  0  0  0  0  0  0  7  0 10  0  0  0  0]\n",
      " [ 0  0  0  0  0  0  0  0  0  0  5  0  5  0  1  0  0]\n",
      " [ 0  0  0  0  0  0  0  0  0  0  7  0 30  0  4  0  0]\n",
      " [ 0  0  0  0  0  0  0  0  0  0  4  0 15  0  6  0  0]\n",
      " [ 0  0  0  0  0  0  0  0  0  0  2  0 24  0 46  0  0]\n",
      " [ 0  0  0  0  0  0  0  0  0  0  0  0  2  0 20  0  0]\n",
      " [ 0  0  0  0  0  0  0  0  0  0  0  0  1  0 44  0  0]\n",
      " [ 0  0  0  0  0  0  0  0  0  0  0  0  0  0 25  0  0]\n",
      " [ 0  0  0  0  0  0  0  0  0  0  0  0  0  0 66  0  0]\n",
      " [ 0  0  0  0  0  0  0  0  0  0  0  0  0  0 36  0  0]\n",
      " [ 0  0  0  0  0  0  0  0  0  0  0  0  0  0 55  0  0]\n",
      " [ 0  0  0  0  0  0  0  0  0  0  0  0  0  0 13  0  0]\n",
      " [ 0  0  0  0  0  0  0  0  0  0  0  0  0  0 10  0  0]\n",
      " [ 0  0  0  0  0  0  0  0  0  0  0  0  0  0  3  0  0]\n",
      " [ 0  0  0  0  0  0  0  0  0  0  0  0  0  0  2  0  0]]\n"
     ]
    },
    {
     "name": "stderr",
     "output_type": "stream",
     "text": [
      "C:\\Users\\Home\\anaconda3\\lib\\site-packages\\sklearn\\metrics\\_classification.py:1318: UndefinedMetricWarning: Precision and F-score are ill-defined and being set to 0.0 in labels with no predicted samples. Use `zero_division` parameter to control this behavior.\n",
      "  _warn_prf(average, modifier, msg_start, len(result))\n",
      "C:\\Users\\Home\\anaconda3\\lib\\site-packages\\sklearn\\metrics\\_classification.py:1318: UndefinedMetricWarning: Precision and F-score are ill-defined and being set to 0.0 in labels with no predicted samples. Use `zero_division` parameter to control this behavior.\n",
      "  _warn_prf(average, modifier, msg_start, len(result))\n",
      "C:\\Users\\Home\\anaconda3\\lib\\site-packages\\sklearn\\metrics\\_classification.py:1318: UndefinedMetricWarning: Precision and F-score are ill-defined and being set to 0.0 in labels with no predicted samples. Use `zero_division` parameter to control this behavior.\n",
      "  _warn_prf(average, modifier, msg_start, len(result))\n"
     ]
    }
   ],
   "source": [
    "predicted = lm.predict(x_test)\n",
    "print(metrics.classification_report(y_test, predicted)) \n",
    "print(metrics.confusion_matrix(y_test, predicted))"
   ]
  },
  {
   "cell_type": "code",
   "execution_count": 65,
   "id": "7d9c61d9",
   "metadata": {},
   "outputs": [
    {
     "name": "stdout",
     "output_type": "stream",
     "text": [
      "KNN\n",
      "KNeighborsClassifier()\n"
     ]
    }
   ],
   "source": [
    "print(\"KNN\")\n",
    "model = KNeighborsClassifier()\n",
    "model.fit(x_train,y_train) \n",
    "print(model)"
   ]
  },
  {
   "cell_type": "code",
   "execution_count": 66,
   "id": "fff493e6",
   "metadata": {},
   "outputs": [
    {
     "name": "stdout",
     "output_type": "stream",
     "text": [
      "              precision    recall  f1-score   support\n",
      "\n",
      "        10.0       0.25      1.00      0.40         1\n",
      "        50.0       0.00      0.00      0.00         1\n",
      "       100.0       0.47      0.41      0.44        17\n",
      "       500.0       0.20      0.09      0.13        11\n",
      "      1000.0       0.40      0.41      0.41        41\n",
      "      5000.0       0.31      0.40      0.35        25\n",
      "     10000.0       0.56      0.53      0.54        72\n",
      "     50000.0       0.20      0.18      0.19        22\n",
      "    100000.0       0.40      0.53      0.46        45\n",
      "    500000.0       0.20      0.12      0.15        25\n",
      "   1000000.0       0.48      0.58      0.52        66\n",
      "   5000000.0       0.26      0.19      0.22        36\n",
      "  10000000.0       0.64      0.62      0.63        55\n",
      "  50000000.0       0.62      0.38      0.48        13\n",
      " 100000000.0       0.73      0.80      0.76        10\n",
      " 500000000.0       0.50      0.67      0.57         3\n",
      "1000000000.0       1.00      0.50      0.67         2\n",
      "\n",
      "    accuracy                           0.45       445\n",
      "   macro avg       0.43      0.44      0.41       445\n",
      "weighted avg       0.44      0.45      0.44       445\n",
      "\n",
      "[[ 1  0  0  0  0  0  0  0  0  0  0  0  0  0  0  0  0]\n",
      " [ 0  0  1  0  0  0  0  0  0  0  0  0  0  0  0  0  0]\n",
      " [ 1  0  7  2  6  1  0  0  0  0  0  0  0  0  0  0  0]\n",
      " [ 1  0  0  1  5  1  3  0  0  0  0  0  0  0  0  0  0]\n",
      " [ 1  1  7  2 17  7  6  0  0  0  0  0  0  0  0  0  0]\n",
      " [ 0  0  0  0  7 10  8  0  0  0  0  0  0  0  0  0  0]\n",
      " [ 0  0  0  0  7 12 38 10  5  0  0  0  0  0  0  0  0]\n",
      " [ 0  0  0  0  0  1  7  4  9  1  0  0  0  0  0  0  0]\n",
      " [ 0  0  0  0  0  0  5  5 24  4  6  1  0  0  0  0  0]\n",
      " [ 0  0  0  0  0  0  0  1 11  3  8  1  1  0  0  0  0]\n",
      " [ 0  0  0  0  0  0  1  0 10  6 38  9  2  0  0  0  0]\n",
      " [ 0  0  0  0  0  0  0  0  1  1 18  7  9  0  0  0  0]\n",
      " [ 0  0  0  0  0  0  0  0  0  0  9  9 34  2  1  0  0]\n",
      " [ 0  0  0  0  0  0  0  0  0  0  0  0  7  5  1  0  0]\n",
      " [ 0  0  0  0  0  0  0  0  0  0  0  0  0  0  8  2  0]\n",
      " [ 0  0  0  0  0  0  0  0  0  0  0  0  0  0  1  2  0]\n",
      " [ 0  0  0  0  0  0  0  0  0  0  0  0  0  1  0  0  1]]\n"
     ]
    }
   ],
   "source": [
    "predicted= model.predict(x_test)\n",
    "print (metrics.classification_report(y_test, predicted))\n",
    "print (metrics.confusion_matrix(y_test, predicted))"
   ]
  },
  {
   "cell_type": "code",
   "execution_count": 67,
   "id": "91214c78",
   "metadata": {},
   "outputs": [
    {
     "name": "stdout",
     "output_type": "stream",
     "text": [
      "0.449438202247191\n"
     ]
    }
   ],
   "source": [
    "print (metrics.accuracy_score(y_test, predicted))"
   ]
  },
  {
   "cell_type": "code",
   "execution_count": 69,
   "id": "68d52d6e",
   "metadata": {},
   "outputs": [
    {
     "data": {
      "text/plain": [
       "DecisionTreeClassifier()"
      ]
     },
     "execution_count": 69,
     "metadata": {},
     "output_type": "execute_result"
    }
   ],
   "source": [
    "modeldtc = DecisionTreeClassifier()\n",
    "modeldtc.fit(x_train,y_train)"
   ]
  },
  {
   "cell_type": "code",
   "execution_count": 71,
   "id": "8f45c629",
   "metadata": {},
   "outputs": [
    {
     "data": {
      "text/plain": [
       "0.5123595505617977"
      ]
     },
     "execution_count": 71,
     "metadata": {},
     "output_type": "execute_result"
    }
   ],
   "source": [
    "modeldtc.score(x_test,y_test)"
   ]
  },
  {
   "cell_type": "code",
   "execution_count": 73,
   "id": "96ccfc50",
   "metadata": {},
   "outputs": [],
   "source": [
    "dist = {}\n",
    "for i in [0,1,42,101,110,575,684,786,506,454,455]:\n",
    "    rf_reg = RandomForestClassifier(random_state=i)\n",
    "    rf_reg.fit(x_train, y_train)\n",
    "    dist[i] = rf_reg.score(x_test,y_test)"
   ]
  },
  {
   "cell_type": "code",
   "execution_count": 74,
   "id": "097c2d43",
   "metadata": {},
   "outputs": [
    {
     "data": {
      "text/plain": [
       "{0: 0.5662921348314607,\n",
       " 1: 0.5617977528089888,\n",
       " 42: 0.5685393258426966,\n",
       " 101: 0.5887640449438202,\n",
       " 110: 0.5662921348314607,\n",
       " 575: 0.5707865168539326,\n",
       " 684: 0.5617977528089888,\n",
       " 786: 0.5707865168539326,\n",
       " 506: 0.5685393258426966,\n",
       " 454: 0.5730337078651685,\n",
       " 455: 0.550561797752809}"
      ]
     },
     "execution_count": 74,
     "metadata": {},
     "output_type": "execute_result"
    }
   ],
   "source": [
    "dist"
   ]
  },
  {
   "cell_type": "code",
   "execution_count": 76,
   "id": "bf674b77",
   "metadata": {},
   "outputs": [
    {
     "data": {
      "text/plain": [
       "RandomForestClassifier(random_state=454)"
      ]
     },
     "execution_count": 76,
     "metadata": {},
     "output_type": "execute_result"
    }
   ],
   "source": [
    "rf_reg = RandomForestClassifier(random_state=454)\n",
    "rf_reg.fit(x_train,y_train)"
   ]
  },
  {
   "cell_type": "code",
   "execution_count": 79,
   "id": "7be88702",
   "metadata": {},
   "outputs": [
    {
     "data": {
      "text/plain": [
       "0.5730337078651685"
      ]
     },
     "execution_count": 79,
     "metadata": {},
     "output_type": "execute_result"
    }
   ],
   "source": [
    "rf_reg.score(x_test,y_test)"
   ]
  },
  {
   "cell_type": "code",
   "execution_count": 80,
   "id": "033ca089",
   "metadata": {},
   "outputs": [],
   "source": [
    "def LogisticReg(x_train,y_train,x_test,y_test):\n",
    "    modelLogistic=LogisticRegression()\n",
    "    modelLogistic.fit(x_train,y_train)\n",
    "    return modelLogistic.score(x_test,y_test)\n",
    "    #return mean_squared_error(y_test, modelLogistic.predict(x_test), squared=False)\n",
    "def DecisionTreeClf(x_train,y_train,x_test,y_test):\n",
    "    modeldtc = DecisionTreeClassifier(random_state=42)\n",
    "    modeldtc.fit(x_train,y_train)\n",
    "    return modeldtc.score(x_test,y_test)\n",
    "    #return mean_squared_error(y_test, modeldtc.predict(x_test), squared=False)\n",
    "def RandomForestClf(x_train,y_train,x_test,y_test):\n",
    "    modelrfc = RandomForestClassifier(max_depth=2, random_state=42)\n",
    "    modelrfc.fit(x_train,y_train)\n",
    "    return modelrfc.score(x_test,y_test)\n",
    "    #return mean_squared_error(y_test, modelrfc.predict(x_test), squared=False)\n",
    "def GradientBoostingClf(x_train,y_train,x_test,y_test):\n",
    "    modelgbc = GradientBoostingClassifier(n_estimators=100,max_depth=2, random_state=42)\n",
    "    modelgbc.fit(x_train,y_train)\n",
    "    return modelgbc.score(x_test,y_test)\n",
    "    #return mean_squared_error(y_test, modelgbc.predict(x_test), squared=False)\n",
    "def AdaBoostClf(x_train,y_train,x_test,y_test):\n",
    "    modelabc = AdaBoostClassifier(random_state=45)\n",
    "    modelabc.fit(x_train,y_train)\n",
    "    return modelabc.score(x_test,y_test)"
   ]
  },
  {
   "cell_type": "code",
   "execution_count": 82,
   "id": "b60c8526",
   "metadata": {},
   "outputs": [
    {
     "name": "stderr",
     "output_type": "stream",
     "text": [
      "C:\\Users\\Home\\anaconda3\\lib\\site-packages\\sklearn\\linear_model\\_logistic.py:814: ConvergenceWarning: lbfgs failed to converge (status=1):\n",
      "STOP: TOTAL NO. of ITERATIONS REACHED LIMIT.\n",
      "\n",
      "Increase the number of iterations (max_iter) or scale the data as shown in:\n",
      "    https://scikit-learn.org/stable/modules/preprocessing.html\n",
      "Please also refer to the documentation for alternative solver options:\n",
      "    https://scikit-learn.org/stable/modules/linear_model.html#logistic-regression\n",
      "  n_iter_i = _check_optimize_result(\n"
     ]
    }
   ],
   "source": [
    "reg = [LogisticReg(x_train,y_train,x_test,y_test),DecisionTreeClf(x_train,y_train,x_test,y_test),RandomForestClf(x_train,y_train,x_test,y_test),GradientBoostingClf(x_train,y_train,x_test,y_test),AdaBoostClf(x_train,y_train,x_test,y_test)]"
   ]
  },
  {
   "cell_type": "code",
   "execution_count": 83,
   "id": "0e188816",
   "metadata": {},
   "outputs": [
    {
     "data": {
      "text/plain": [
       "[0.02247191011235955,\n",
       " 0.4966292134831461,\n",
       " 0.42247191011235957,\n",
       " 0.5617977528089888,\n",
       " 0.2898876404494382]"
      ]
     },
     "execution_count": 83,
     "metadata": {},
     "output_type": "execute_result"
    }
   ],
   "source": [
    "reg"
   ]
  },
  {
   "cell_type": "code",
   "execution_count": null,
   "id": "98f84e99",
   "metadata": {},
   "outputs": [
    {
     "name": "stdout",
     "output_type": "stream",
     "text": [
      " * Serving Flask app \"__main__\" (lazy loading)\n",
      " * Environment: production\n",
      "\u001b[31m   WARNING: This is a development server. Do not use it in a production deployment.\u001b[0m\n",
      "\u001b[2m   Use a production WSGI server instead.\u001b[0m\n",
      " * Debug mode: off\n"
     ]
    },
    {
     "name": "stderr",
     "output_type": "stream",
     "text": [
      " * Running on http://127.0.0.1:5000/ (Press CTRL+C to quit)\n",
      "127.0.0.1 - - [27/Jul/2022 11:56:51] \"GET / HTTP/1.1\" 200 -\n",
      "127.0.0.1 - - [27/Jul/2022 11:56:53] \"GET /uploads/media/default/0001/01/b5edc1bad4dc8c20291c8394527cb2c5b43ee13c.jpeg HTTP/1.1\" 404 -\n",
      "127.0.0.1 - - [27/Jul/2022 12:07:09] \"GET /Project.docx HTTP/1.1\" 404 -\n"
     ]
    }
   ],
   "source": [
    "app = Flask(__name__,template_folder=r'C:\\Users\\Home\\Desktop\\template')\n",
    "Playstore = pd.read_csv(r\"C:\\Users\\Home\\Desktop\\project\\googleplaystore.csv\\googleplaystore.csv\")\n",
    "Playstore = df.drop(['App','Last Updated','Current Ver','Installs'],axis=1)\n",
    "l = list(Playstore.columns)\n",
    "k = list(Playstore.columns)\n",
    "@app.route('/')\n",
    "def index():\n",
    "    return render_template('index.html')\n",
    "@app.route('/getting', methods=['POST'])\n",
    "def getting():\n",
    "    name = request.form['name']\n",
    "    cat = request.form['cat']\n",
    "    rat = request.form['rat']\n",
    "    rev = request.form['rev']\n",
    "    siz = request.form['size']\n",
    "    typ = request.form['type']\n",
    "    pri = request.form['price']\n",
    "    cr = request.form['cr']\n",
    "    gr = request.form['gr']\n",
    "    ar = request.form['ar']\n",
    "    df5['App'] = name\n",
    "    df2['Rating'] = rat\n",
    "    df5['Rating']= rat\n",
    "    df5['Reviews']= rev\n",
    "    df5['Price']= pri\n",
    "    df2['Reviews'] = rev\n",
    "    df2['Price'] = pri\n",
    "    for j in range(0,len(k)):\n",
    "        if(l[0]+'_'+cat == k[j]):\n",
    "            df2[l[0]+'_'+cat ] = 1\n",
    "            df5[l[0]] = cat\n",
    "    for j in range(0,len(k)):\n",
    "        if(l[3]+'_'+siz == k[j]):\n",
    "            df2[l[3]+'_'+siz] = 1\n",
    "            df5[l[3]] = siz\n",
    "    for j in range(0,len(k)):\n",
    "        if(l[4]+'_'+typ == k[j]):\n",
    "            df2[l[4]+'_'+typ ] = 1\n",
    "            df5[l[4]] = typ\n",
    "    for j in range(0,len(k)):\n",
    "        if(l[6]+'_'+cr == k[j]):\n",
    "            df2[l[6]+'_'+cr]  = 1\n",
    "            df5[l[6]] = cr\n",
    "    for j in range(0,len(k)):\n",
    "        if(l[7]+'_'+gr == k[j]):\n",
    "            df2[l[7]+'_'+gr ] = 1\n",
    "            df5[l[7]] = gr\n",
    "    for j in range(0,len(k)):\n",
    "        if(l[8]+'_'+ar == k[j]):\n",
    "            df2[l[8]+'_'+ar ] = 1\n",
    "            df5[l[8]] = ar\n",
    "    df2.fillna(0,inplace=True)\n",
    "    return render_template('op.html',ds = df5.to_html(),pred = model.predict(df2),name = name)\n",
    "app.run()"
   ]
  },
  {
   "cell_type": "markdown",
   "id": "6195dd2a",
   "metadata": {},
   "source": [
    "# 6.Conclusions"
   ]
  },
  {
   "cell_type": "markdown",
   "id": "c09f5ad6",
   "metadata": {},
   "source": [
    "In this project, we analyzed data about the App Store and Google Play mobile apps with the goal of recommending an app profile that can be profitable for both markets."
   ]
  },
  {
   "cell_type": "code",
   "execution_count": null,
   "id": "c17f7861",
   "metadata": {},
   "outputs": [],
   "source": []
  }
 ],
 "metadata": {
  "kernelspec": {
   "display_name": "Python 3 (ipykernel)",
   "language": "python",
   "name": "python3"
  },
  "language_info": {
   "codemirror_mode": {
    "name": "ipython",
    "version": 3
   },
   "file_extension": ".py",
   "mimetype": "text/x-python",
   "name": "python",
   "nbconvert_exporter": "python",
   "pygments_lexer": "ipython3",
   "version": "3.9.12"
  }
 },
 "nbformat": 4,
 "nbformat_minor": 5
}
